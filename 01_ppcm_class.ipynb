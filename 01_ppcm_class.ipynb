{
 "cells": [
  {
   "attachments": {},
   "cell_type": "markdown",
   "metadata": {},
   "source": [
    "### Purpose:\n",
    "The purpose of this notebook is to blah, blah, blah"
   ]
  },
  {
   "attachments": {},
   "cell_type": "markdown",
   "metadata": {},
   "source": [
    "### Dependancies:"
   ]
  },
  {
   "cell_type": "code",
   "execution_count": 61,
   "metadata": {},
   "outputs": [],
   "source": [
    "from conversion_factors import volume_conversion_factors, mass_conversion_factors"
   ]
  },
  {
   "attachments": {},
   "cell_type": "markdown",
   "metadata": {},
   "source": [
    "### Class:"
   ]
  },
  {
   "cell_type": "code",
   "execution_count": 62,
   "metadata": {},
   "outputs": [],
   "source": [
    "class Material:\n",
    "    def __init__(self, name=None, price=None, unit=None, density=None):\n",
    "\n",
    "        self.name = name\n",
    "        self.price = price\n",
    "        self.unit = unit\n",
    "        self.density = density\n",
    "        self.unit_type = self.get_unit_type()\n",
    "        self.ppcm = self.calculate_ppcm()\n",
    "        \n",
    "    def get_unit_type(self):\n",
    "        if self.unit in volume_conversion_factors and self.unit in mass_conversion_factors:\n",
    "            print(f\"conversion_factors module ambuity error. unit cannot be in both `volume_conversion_factors` and `mass_conversion_factors`\")\n",
    "        elif self.unit in volume_conversion_factors:\n",
    "            unit_type = 'volume'\n",
    "        elif self.unit in mass_conversion_factors:\n",
    "            unit_type = 'mass'\n",
    "        else:\n",
    "            return None\n",
    "        return unit_type\n",
    "    \n",
    "    def get_unit_type(self):\n",
    "        if self.unit in volume_conversion_factors and self.unit in mass_conversion_factors:\n",
    "            print(f\"conversion_factors module ambuity error. unit cannot be in both `volume_conversion_factors` and `mass_conversion_factors`\")\n",
    "            unit_type = None\n",
    "        elif self.unit in volume_conversion_factors:\n",
    "            unit_type = 'volume'\n",
    "        elif self.unit in mass_conversion_factors:\n",
    "            unit_type = 'mass'\n",
    "        else:\n",
    "            return None\n",
    "        return unit_type\n",
    "\n",
    "    def calculate_ppcm(self):\n",
    "        if self.unit_type == 'volume':\n",
    "            ppcm = self.price / volume_conversion_factors[self.unit]\n",
    "        elif self.unit_type == 'mass':\n",
    "            if self.density is None:\n",
    "                return 0\n",
    "            ppcm= self.price / mass_conversion_factors[self.unit] * self.density\n",
    "        return ppcm"
   ]
  },
  {
   "cell_type": "code",
   "execution_count": null,
   "metadata": {},
   "outputs": [],
   "source": []
  },
  {
   "attachments": {},
   "cell_type": "markdown",
   "metadata": {},
   "source": [
    "### Execution Code:"
   ]
  },
  {
   "cell_type": "code",
   "execution_count": 63,
   "metadata": {},
   "outputs": [
    {
     "name": "stdout",
     "output_type": "stream",
     "text": [
      "1590.0\n"
     ]
    }
   ],
   "source": [
    "# Create a new Material instance\n",
    "water = Material(name=\"Water\", price=1.59, unit=\"L\")\n",
    "\n",
    "# Print the price per cubic meter of water\n",
    "print(water.ppcm)"
   ]
  },
  {
   "cell_type": "code",
   "execution_count": 64,
   "metadata": {},
   "outputs": [],
   "source": [
    "gold = Material('gold', price=2048.20, unit='troy_oz', density=19.3)"
   ]
  },
  {
   "cell_type": "code",
   "execution_count": null,
   "metadata": {},
   "outputs": [],
   "source": []
  },
  {
   "cell_type": "code",
   "execution_count": 65,
   "metadata": {},
   "outputs": [],
   "source": [
    "gold = Material('gold', price=2048.20, unit='troy_oz')"
   ]
  },
  {
   "cell_type": "code",
   "execution_count": 66,
   "metadata": {},
   "outputs": [
    {
     "name": "stdout",
     "output_type": "stream",
     "text": [
      "Price per cubic metre for gold: 0.00\n"
     ]
    }
   ],
   "source": [
    "print(f\"Price per cubic metre for {gold.name}: {gold.ppcm:,.2f}\")"
   ]
  },
  {
   "cell_type": "code",
   "execution_count": 67,
   "metadata": {},
   "outputs": [
    {
     "data": {
      "text/plain": [
       "2048.2"
      ]
     },
     "execution_count": 67,
     "metadata": {},
     "output_type": "execute_result"
    }
   ],
   "source": [
    "gold.price"
   ]
  },
  {
   "cell_type": "code",
   "execution_count": 68,
   "metadata": {},
   "outputs": [
    {
     "name": "stdout",
     "output_type": "stream",
     "text": [
      "None\n"
     ]
    }
   ],
   "source": [
    "print(gold.density)"
   ]
  },
  {
   "cell_type": "code",
   "execution_count": 69,
   "metadata": {},
   "outputs": [
    {
     "data": {
      "text/plain": [
       "'troy_oz'"
      ]
     },
     "execution_count": 69,
     "metadata": {},
     "output_type": "execute_result"
    }
   ],
   "source": [
    "gold.unit"
   ]
  },
  {
   "cell_type": "code",
   "execution_count": 70,
   "metadata": {},
   "outputs": [
    {
     "data": {
      "text/plain": [
       "0"
      ]
     },
     "execution_count": 70,
     "metadata": {},
     "output_type": "execute_result"
    }
   ],
   "source": [
    "gold.ppcm"
   ]
  },
  {
   "cell_type": "code",
   "execution_count": null,
   "metadata": {},
   "outputs": [],
   "source": []
  },
  {
   "cell_type": "code",
   "execution_count": null,
   "metadata": {},
   "outputs": [],
   "source": []
  },
  {
   "cell_type": "code",
   "execution_count": null,
   "metadata": {},
   "outputs": [],
   "source": []
  }
 ],
 "metadata": {
  "kernelspec": {
   "display_name": "base",
   "language": "python",
   "name": "python3"
  },
  "language_info": {
   "codemirror_mode": {
    "name": "ipython",
    "version": 3
   },
   "file_extension": ".py",
   "mimetype": "text/x-python",
   "name": "python",
   "nbconvert_exporter": "python",
   "pygments_lexer": "ipython3",
   "version": "3.10.9"
  },
  "orig_nbformat": 4
 },
 "nbformat": 4,
 "nbformat_minor": 2
}
