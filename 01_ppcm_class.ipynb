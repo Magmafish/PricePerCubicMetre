{
 "cells": [
  {
   "attachments": {},
   "cell_type": "markdown",
   "metadata": {},
   "source": [
    "### Purpose:\n",
    "The purpose of this notebook is to blah, blah, blah"
   ]
  },
  {
   "attachments": {},
   "cell_type": "markdown",
   "metadata": {},
   "source": [
    "### Dependancies:"
   ]
  },
  {
   "cell_type": "code",
   "execution_count": 131,
   "metadata": {},
   "outputs": [],
   "source": [
    "from conversion_factors import volume_conversion_factors, mass_conversion_factors\n",
    "from typing import Union"
   ]
  },
  {
   "attachments": {},
   "cell_type": "markdown",
   "metadata": {},
   "source": [
    "### Class:"
   ]
  },
  {
   "cell_type": "code",
   "execution_count": 132,
   "metadata": {},
   "outputs": [],
   "source": [
    "class Material:\n",
    "    def __init__(self, name: str = None, price: float = None, unit: str = None, density: float = None):\n",
    "        \"\"\"\n",
    "        Initialize a new Material instance.\n",
    "\n",
    "        Args:\n",
    "        - name (str): The name of the material.\n",
    "        - price (float): The price of the material.\n",
    "        - unit (str): The unit of measurement for the material.\n",
    "        - density (float): The density of the material.\n",
    "\n",
    "        Attributes:\n",
    "        - self.name (str): The name of the material.\n",
    "        - self.price (float): The price of the material per unit.\n",
    "        - self.unit (str): The unit of measurement for the material in which it is sold.\n",
    "        - self.density (float): The density of the material.\n",
    "        - self.unit_type (str): Type of unit in which the material is sold: `volume` or `mass`.\n",
    "        - self.ppcm (float): Price per cubic metre. Added by self.calculate_ppcm()\n",
    "        - self.mass (float): Mass of 1 cubic metre of the materail.\n",
    "    \n",
    "        \"\"\"\n",
    "        self.name = name\n",
    "        self.price = price\n",
    "        self.unit = unit\n",
    "        self.density = density\n",
    "        self.unit_type = self.get_unit_type()\n",
    "        self.ppcm = self.calculate_ppcm()\n",
    "        self.mass = self.calculate_mass()\n",
    "\n",
    "    def calculate_mass(self) -> Union[float, None]:\n",
    "        \"\"\"\n",
    "        Calculate the mass of the material.\n",
    "\n",
    "        Returns:\n",
    "        - mass (float): The mass of the material.\n",
    "        \"\"\"\n",
    "        if self.density is None:\n",
    "            return None\n",
    "        mass = self.density * 1000\n",
    "        return mass\n",
    "\n",
    "    def get_unit_type(self) -> Union[str, None]:\n",
    "        \"\"\"\n",
    "        Get the unit type of the material: either `volume` or `mass`.\n",
    "\n",
    "        Returns:\n",
    "        - unit_type (str): The unit type of the material.\n",
    "        \"\"\"\n",
    "        if self.unit in volume_conversion_factors and self.unit in mass_conversion_factors:\n",
    "            print(f\"conversion_factors module ambiguity error. unit cannot be in both `volume_conversion_factors` and `mass_conversion_factors`\")\n",
    "        elif self.unit in volume_conversion_factors:\n",
    "            unit_type = 'volume'\n",
    "        elif self.unit in mass_conversion_factors:\n",
    "            unit_type = 'mass'\n",
    "        else:\n",
    "            return None\n",
    "        return unit_type\n",
    "\n",
    "    def calculate_ppcm(self) -> Union[float, None]:\n",
    "        \"\"\"\n",
    "        Calculate the price per cubic meter of the material.\n",
    "\n",
    "        Returns:\n",
    "        - ppcm (float): The price per cubic meter of the material.\n",
    "        \"\"\"\n",
    "        if self.unit_type == 'volume':\n",
    "            ppcm = self.price / volume_conversion_factors[self.unit]\n",
    "        elif self.unit_type == 'mass':\n",
    "            if self.density is None:\n",
    "                return None\n",
    "            ppcm = self.price / mass_conversion_factors[self.unit] * self.density\n",
    "        return ppcm"
   ]
  },
  {
   "attachments": {},
   "cell_type": "markdown",
   "metadata": {},
   "source": [
    "### Execution Code:"
   ]
  },
  {
   "cell_type": "code",
   "execution_count": 133,
   "metadata": {},
   "outputs": [
    {
     "name": "stdout",
     "output_type": "stream",
     "text": [
      "1590.0\n"
     ]
    }
   ],
   "source": [
    "# Create a new Material instance\n",
    "water = Material(name=\"Water\", price=1.59, unit=\"L\", density=1)\n",
    "\n",
    "# Print the price per cubic meter of water\n",
    "print(water.ppcm)"
   ]
  },
  {
   "cell_type": "code",
   "execution_count": 134,
   "metadata": {},
   "outputs": [
    {
     "data": {
      "text/plain": [
       "1000"
      ]
     },
     "execution_count": 134,
     "metadata": {},
     "output_type": "execute_result"
    }
   ],
   "source": [
    "water.mass"
   ]
  },
  {
   "cell_type": "code",
   "execution_count": 135,
   "metadata": {},
   "outputs": [],
   "source": [
    "gold = Material('gold', price=2048.20, unit='troy_oz', density=19.3)"
   ]
  },
  {
   "cell_type": "code",
   "execution_count": 136,
   "metadata": {},
   "outputs": [],
   "source": [
    "# find the topography of diamond prices\n",
    "# color\n",
    "# size\n",
    "# clarity\n",
    "# quality?\n",
    "# inclusions"
   ]
  },
  {
   "cell_type": "code",
   "execution_count": 137,
   "metadata": {},
   "outputs": [],
   "source": [
    "# gold = Material('gold', price=2048.20, unit='troy_oz')"
   ]
  },
  {
   "cell_type": "code",
   "execution_count": 138,
   "metadata": {},
   "outputs": [
    {
     "name": "stdout",
     "output_type": "stream",
     "text": [
      "Price per cubic metre for gold: 1,270,926.42\n"
     ]
    }
   ],
   "source": [
    "print(f\"Price per cubic metre for {gold.name}: {gold.ppcm:,.2f}\")"
   ]
  },
  {
   "cell_type": "code",
   "execution_count": 139,
   "metadata": {},
   "outputs": [
    {
     "data": {
      "text/plain": [
       "2048.2"
      ]
     },
     "execution_count": 139,
     "metadata": {},
     "output_type": "execute_result"
    }
   ],
   "source": [
    "gold.price"
   ]
  },
  {
   "cell_type": "code",
   "execution_count": 140,
   "metadata": {},
   "outputs": [
    {
     "name": "stdout",
     "output_type": "stream",
     "text": [
      "19.3\n"
     ]
    }
   ],
   "source": [
    "print(gold.density)"
   ]
  },
  {
   "cell_type": "code",
   "execution_count": 141,
   "metadata": {},
   "outputs": [
    {
     "data": {
      "text/plain": [
       "'troy_oz'"
      ]
     },
     "execution_count": 141,
     "metadata": {},
     "output_type": "execute_result"
    }
   ],
   "source": [
    "gold.unit"
   ]
  },
  {
   "cell_type": "code",
   "execution_count": 142,
   "metadata": {},
   "outputs": [
    {
     "data": {
      "text/plain": [
       "1270926.4230713584"
      ]
     },
     "execution_count": 142,
     "metadata": {},
     "output_type": "execute_result"
    }
   ],
   "source": [
    "gold.ppcm"
   ]
  },
  {
   "cell_type": "code",
   "execution_count": 143,
   "metadata": {},
   "outputs": [
    {
     "data": {
      "text/plain": [
       "19300.0"
      ]
     },
     "execution_count": 143,
     "metadata": {},
     "output_type": "execute_result"
    }
   ],
   "source": [
    "gold.mass"
   ]
  },
  {
   "cell_type": "code",
   "execution_count": null,
   "metadata": {},
   "outputs": [],
   "source": []
  },
  {
   "cell_type": "code",
   "execution_count": null,
   "metadata": {},
   "outputs": [],
   "source": []
  }
 ],
 "metadata": {
  "kernelspec": {
   "display_name": "base",
   "language": "python",
   "name": "python3"
  },
  "language_info": {
   "codemirror_mode": {
    "name": "ipython",
    "version": 3
   },
   "file_extension": ".py",
   "mimetype": "text/x-python",
   "name": "python",
   "nbconvert_exporter": "python",
   "pygments_lexer": "ipython3",
   "version": "3.10.9"
  },
  "orig_nbformat": 4
 },
 "nbformat": 4,
 "nbformat_minor": 2
}
