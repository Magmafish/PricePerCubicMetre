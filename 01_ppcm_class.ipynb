{
 "cells": [
  {
   "attachments": {},
   "cell_type": "markdown",
   "metadata": {},
   "source": [
    "### Purpose:\n",
    "The purpose of this notebook is to blah, blah, blah"
   ]
  },
  {
   "attachments": {},
   "cell_type": "markdown",
   "metadata": {},
   "source": [
    "### Dependancies:"
   ]
  },
  {
   "cell_type": "code",
   "execution_count": 100,
   "metadata": {},
   "outputs": [],
   "source": [
    "from conversion_factors import volume_conversion_factors, mass_conversion_factors\n",
    "from typing import Union\n",
    "import math\n"
   ]
  },
  {
   "attachments": {},
   "cell_type": "markdown",
   "metadata": {},
   "source": [
    "### Class:"
   ]
  },
  {
   "cell_type": "code",
   "execution_count": 101,
   "metadata": {},
   "outputs": [],
   "source": [
    "class Material:\n",
    "    def __init__(self, name: str = None, price: float = None, unit: str = None, density: float = None, currency: str = 'USD'):\n",
    "        \"\"\"\n",
    "        Instantiate a new Material instance.\n",
    "\n",
    "        Args:\n",
    "        - name (str): The name of the material.\n",
    "        - price (float): The price of the material per unit\n",
    "        - unit (str): The unit of measurement for the material.\n",
    "        - density (float): The density of the material.\n",
    "        - currency (str): The currency of the of the sales price. Default is 'USD'\n",
    "\n",
    "        Attributes:\n",
    "        - self.name (str): The name of the material.\n",
    "        - self.price (float): The price of the material per unit.\n",
    "        - self.unit (str): The unit of measurement for the material in which it is sold.\n",
    "        - self.density (float): The density of the material.\n",
    "        - self.currency (str): The currency of the of the sales price.\n",
    "        - self.unit_type (str): Type of unit in which the material is sold: `volume` or `mass`.\n",
    "        - self.ppcm (float): Price per m³.\n",
    "        - self.mass (float): Mass of 1 m³ of the material.\n",
    "    \n",
    "        \"\"\"\n",
    "        self.name = name\n",
    "        self.price = price\n",
    "        self.unit = unit\n",
    "        self.density = density\n",
    "        self.currency = currency\n",
    "        self.unit_type = self.get_unit_type()\n",
    "        self.ppcm = self.calculate_ppcm()\n",
    "        self.mass = self.calculate_mass()\n",
    "        self.ppl = self.calculate_ppl()\n",
    "\n",
    "    def calculate_mass(self) -> Union[float, None]:\n",
    "        \"\"\"\n",
    "        Calculate the mass of the material.\n",
    "\n",
    "        Returns:\n",
    "        - mass (float): The mass of the material.\n",
    "        \"\"\"\n",
    "        if self.density is None:\n",
    "            return None\n",
    "        mass = self.density * 1000\n",
    "        return mass\n",
    "\n",
    "    def get_unit_type(self) -> Union[str, None]:\n",
    "        \"\"\"\n",
    "        Get the unit type of the material: either `volume` or `mass`.\n",
    "\n",
    "        Returns:\n",
    "        - unit_type (str): The unit type of the material.\n",
    "        \"\"\"\n",
    "        if self.unit in volume_conversion_factors and self.unit in mass_conversion_factors:\n",
    "            print(f\"conversion_factors module ambiguity error. unit cannot be in both `volume_conversion_factors` and `mass_conversion_factors`\")\n",
    "        elif self.unit in volume_conversion_factors:\n",
    "            unit_type = 'volume'\n",
    "        elif self.unit in mass_conversion_factors:\n",
    "            unit_type = 'mass'\n",
    "        else:\n",
    "            return None\n",
    "        return unit_type\n",
    "\n",
    "    def calculate_ppcm(self) -> Union[float, None]:\n",
    "        \"\"\"\n",
    "        Calculate the price per m³ of the material.\n",
    "\n",
    "        Returns:\n",
    "        - ppcm (float): The price per m³ of the material.\n",
    "        \"\"\"\n",
    "        if self.unit_type == 'volume':\n",
    "            #print(f\"VCF: {volume_conversion_factors[self.unit]}\")\n",
    "            ppcm = self.price / volume_conversion_factors[self.unit]\n",
    "        elif self.unit_type == 'mass':\n",
    "            #print(f\"MCF: {mass_conversion_factors[self.unit]}\")\n",
    "            if self.density is None:\n",
    "                return None\n",
    "            ppcm = self.price / mass_conversion_factors[self.unit] * self.density * 1000\n",
    "        else:\n",
    "            return None\n",
    "        return ppcm\n",
    "\n",
    "    def calculate_ppl(self) -> Union[float, None]:\n",
    "        \"\"\"\n",
    "        Calculate the price per litre of the material.\n",
    "\n",
    "        Returns:\n",
    "        - ppl (float): The price per litre of the material.\n",
    "        \"\"\"\n",
    "        if isinstance(self.ppcm, (int, float)):\n",
    "            ppl = self.ppcm / 1000\n",
    "            return ppl\n",
    "        else:\n",
    "            print(\"no ppcm\")\n",
    "        return None\n",
    "    \n",
    "    def all(self) -> None:\n",
    "        print(f\"Material Name: {self.name}\")\n",
    "        if isinstance(self.price, (int, float)):\n",
    "            print(f\"Price: ${self.price:,.2f} {self.currency} per {self.unit} (sold by unit {self.unit_type})\")\n",
    "        else:\n",
    "            print(f\"Price: ${self.price} per {self.unit} (sold by unit {self.unit_type})\")\n",
    "        \n",
    "        if isinstance(self.density, (int, float)):\n",
    "            print(f\"Density: {self.density:,.2f} g/cm³ or {self.mass:,.0f} kg/m³\")\n",
    "        else:\n",
    "            print(f\"Density not provided\")\n",
    "        \n",
    "        if isinstance(self.ppcm, (int, float)):\n",
    "            x = 2 if self.ppcm < 100 else 0\n",
    "            precision = -int(math.floor(math.log10(abs(self.ppcm)))) + 2\n",
    "            ppcm_rounded = round(self.ppcm, precision)\n",
    "            print(f\"Price per m³: ${ppcm_rounded:,.{x}f}\")\n",
    "            \n",
    "            x = 2 if self.ppl < 100 else 0\n",
    "            precision = -int(math.floor(math.log10(abs(self.ppl)))) + 2\n",
    "            ppl_rounded = round(self.ppl, precision)\n",
    "            print(f\"Price per L: ${ppl_rounded:,.{x}f}\")\n",
    "\n",
    "        else:\n",
    "            print(f\"Price per m³ not calculated\")"
   ]
  },
  {
   "cell_type": "code",
   "execution_count": 102,
   "metadata": {},
   "outputs": [
    {
     "name": "stdout",
     "output_type": "stream",
     "text": [
      "Material Name: water\n",
      "Price: $7.38 USD per L (sold by unit volume)\n",
      "Density: 1.00 g/cm³ or 1,000 kg/m³\n",
      "Price per m³: $7,380\n",
      "Price per L: $7.38\n"
     ]
    }
   ],
   "source": [
    "water = Material(name=\"water\", price=7.38, unit=\"L\", density=1)\n",
    "water.all()"
   ]
  },
  {
   "cell_type": "code",
   "execution_count": 103,
   "metadata": {},
   "outputs": [
    {
     "name": "stdout",
     "output_type": "stream",
     "text": [
      "Material Name: gasoline\n",
      "Price: $1.59 USD per L (sold by unit volume)\n",
      "Density: 0.74 g/cm³ or 743 kg/m³\n",
      "Price per m³: $1,590\n",
      "Price per L: $1.59\n"
     ]
    }
   ],
   "source": [
    "water = Material(name=\"gasoline\", price=1.59, unit=\"L\", density=0.7429)\n",
    "water.all()"
   ]
  },
  {
   "cell_type": "code",
   "execution_count": 104,
   "metadata": {},
   "outputs": [
    {
     "name": "stdout",
     "output_type": "stream",
     "text": [
      "Material Name: gold\n",
      "Price: $2,011.00 USD per troy_oz (sold by unit mass)\n",
      "Density: 19.30 g/cm³ or 19,300 kg/m³\n",
      "Price per m³: $1,250,000,000\n",
      "Price per L: $1,250,000\n"
     ]
    }
   ],
   "source": [
    "gold = Material('gold', price=2011.00, unit='troy_oz', density=19.3)\n",
    "gold.all()"
   ]
  },
  {
   "cell_type": "code",
   "execution_count": 105,
   "metadata": {},
   "outputs": [
    {
     "name": "stdout",
     "output_type": "stream",
     "text": [
      "Material Name: coal\n",
      "Price: $178.00 USD per t (sold by unit mass)\n",
      "Density: 1.50 g/cm³ or 1,500 kg/m³\n",
      "Price per m³: $267\n",
      "Price per L: $0.27\n"
     ]
    }
   ],
   "source": [
    "coal = Material(name='coal', price=178, unit='t', density=1.5)\n",
    "coal.all()"
   ]
  },
  {
   "cell_type": "code",
   "execution_count": 106,
   "metadata": {},
   "outputs": [
    {
     "name": "stdout",
     "output_type": "stream",
     "text": [
      "Material Name: bottled_water\n",
      "Price: $7.98 USD per L (sold by unit volume)\n",
      "Density: 1.00 g/cm³ or 1,000 kg/m³\n",
      "Price per m³: $7,980\n",
      "Price per L: $7.98\n"
     ]
    }
   ],
   "source": [
    "bottled_water = Material(name='bottled_water', price=7.98, unit='L', density=1)\n",
    "bottled_water.all()"
   ]
  },
  {
   "cell_type": "code",
   "execution_count": 107,
   "metadata": {},
   "outputs": [
    {
     "name": "stdout",
     "output_type": "stream",
     "text": [
      "Material Name: Brent_crude\n",
      "Price: $74.28 USD per BBL (sold by unit volume)\n",
      "Density: 0.83 g/cm³ or 835 kg/m³\n",
      "Price per m³: $467\n",
      "Price per L: $0.47\n"
     ]
    }
   ],
   "source": [
    "Brent_crude = Material(name='Brent_crude', price=74.281, unit='BBL', density=0.835)\n",
    "Brent_crude.all()"
   ]
  },
  {
   "cell_type": "code",
   "execution_count": 108,
   "metadata": {},
   "outputs": [
    {
     "name": "stdout",
     "output_type": "stream",
     "text": [
      "Material Name: copper\n",
      "Price: $3.83 USD per lb (sold by unit mass)\n",
      "Density: 8.96 g/cm³ or 8,960 kg/m³\n",
      "Price per m³: $75,700\n",
      "Price per L: $75.70\n"
     ]
    }
   ],
   "source": [
    "copper = Material(name='copper', price=3.83, unit='lb', density=8.96)\n",
    "copper.all()"
   ]
  },
  {
   "cell_type": "code",
   "execution_count": 109,
   "metadata": {},
   "outputs": [
    {
     "name": "stdout",
     "output_type": "stream",
     "text": [
      "Material Name: soy_beans\n",
      "Price: $1,456.25 USD per BU_60 (sold by unit mass)\n",
      "Density: 0.75 g/cm³ or 753 kg/m³\n",
      "Price per m³: $40,300\n",
      "Price per L: $40.30\n"
     ]
    }
   ],
   "source": [
    "soy_beans = Material(name='soy_beans', price=1456.25, unit='BU_60', density=0.753)\n",
    "soy_beans.all()"
   ]
  },
  {
   "cell_type": "code",
   "execution_count": 110,
   "metadata": {},
   "outputs": [
    {
     "name": "stdout",
     "output_type": "stream",
     "text": [
      "Material Name: lumber\n",
      "Price: $352.60 USD per BF_1000 (sold by unit volume)\n",
      "Density: 0.51 g/cm³ or 512 kg/m³\n",
      "Price per m³: $149\n",
      "Price per L: $0.15\n"
     ]
    }
   ],
   "source": [
    "lumber = Material(name='lumber', price=352.60, unit='BF_1000', density=0.512)\n",
    "lumber.all()"
   ]
  },
  {
   "cell_type": "code",
   "execution_count": 111,
   "metadata": {},
   "outputs": [
    {
     "name": "stdout",
     "output_type": "stream",
     "text": [
      "Material Name: silver\n",
      "Price: $25.65 USD per troy_oz (sold by unit mass)\n",
      "Density: 10.49 g/cm³ or 10,490 kg/m³\n",
      "Price per m³: $8,650,000\n",
      "Price per L: $8,650\n"
     ]
    }
   ],
   "source": [
    "silver = Material(name='silver', price=25.65, unit='troy_oz', density=10.49)\n",
    "silver.all()"
   ]
  },
  {
   "cell_type": "code",
   "execution_count": 112,
   "metadata": {},
   "outputs": [],
   "source": [
    "# find the topography of diamond prices\n",
    "# color\n",
    "# size\n",
    "# clarity\n",
    "# quality?\n",
    "# inclusions"
   ]
  },
  {
   "cell_type": "code",
   "execution_count": 113,
   "metadata": {},
   "outputs": [
    {
     "name": "stdout",
     "output_type": "stream",
     "text": [
      "Material Name: iron_ore\n",
      "Price: $103.50 USD per t (sold by unit mass)\n",
      "Density: 2.88 g/cm³ or 2,880 kg/m³\n",
      "Price per m³: $298\n",
      "Price per L: $0.30\n"
     ]
    }
   ],
   "source": [
    "iron_ore = Material(name='iron_ore', price=103.5, unit='t', density=2.88)\n",
    "iron_ore.all()"
   ]
  },
  {
   "cell_type": "code",
   "execution_count": 114,
   "metadata": {},
   "outputs": [
    {
     "name": "stdout",
     "output_type": "stream",
     "text": [
      "Material Name: lithium_carbonate\n",
      "Price: $24,850.00 USD per ton (sold by unit mass)\n",
      "Density: 2.11 g/cm³ or 2,110 kg/m³\n",
      "Price per m³: $57,800\n",
      "Price per L: $57.80\n"
     ]
    }
   ],
   "source": [
    "lithium_carbonate = Material(name='lithium_carbonate', price=177500*0.14, unit='ton', density=2.11)\n",
    "lithium_carbonate.all()"
   ]
  },
  {
   "cell_type": "code",
   "execution_count": 115,
   "metadata": {},
   "outputs": [
    {
     "name": "stdout",
     "output_type": "stream",
     "text": [
      "Material Name: steel\n",
      "Price: $497.28 USD per t (sold by unit mass)\n",
      "Density: 7.85 g/cm³ or 7,850 kg/m³\n",
      "Price per m³: $3,900\n",
      "Price per L: $3.90\n"
     ]
    }
   ],
   "source": [
    "steel = Material(name='steel', price=3552*0.14, unit='t', density=7.85)\n",
    "steel.all()"
   ]
  },
  {
   "cell_type": "code",
   "execution_count": 116,
   "metadata": {},
   "outputs": [
    {
     "name": "stdout",
     "output_type": "stream",
     "text": [
      "Material Name: heating_oil\n",
      "Price: $2.32 USD per gal (sold by unit volume)\n",
      "Density: 0.87 g/cm³ or 870 kg/m³\n",
      "Price per m³: $613\n",
      "Price per L: $0.61\n"
     ]
    }
   ],
   "source": [
    "heating_oil = Material(name='heating_oil', price=2.32, unit='gal', density=0.87)\n",
    "heating_oil.all()"
   ]
  },
  {
   "cell_type": "code",
   "execution_count": 117,
   "metadata": {},
   "outputs": [
    {
     "name": "stdout",
     "output_type": "stream",
     "text": [
      "Material Name: uranium\n",
      "Price: $53.70 USD per lb (sold by unit mass)\n",
      "Density: 19.10 g/cm³ or 19,100 kg/m³\n",
      "Price per m³: $2,260,000\n",
      "Price per L: $2,260\n"
     ]
    }
   ],
   "source": [
    "uranium = Material(name='uranium', price=53.70, unit='lb', density=19.1)\n",
    "uranium.all()"
   ]
  },
  {
   "cell_type": "code",
   "execution_count": 118,
   "metadata": {},
   "outputs": [
    {
     "name": "stdout",
     "output_type": "stream",
     "text": [
      "Material Name: naphtha\n",
      "Price: $573.84 USD per ton (sold by unit mass)\n",
      "Density: 0.77 g/cm³ or 768 kg/m³\n",
      "Price per m³: $485\n",
      "Price per L: $0.48\n"
     ]
    }
   ],
   "source": [
    "naphtha = Material(name='naphtha', price=573.84, unit='ton', density=0.7675)\n",
    "naphtha.all()"
   ]
  },
  {
   "cell_type": "code",
   "execution_count": 119,
   "metadata": {},
   "outputs": [
    {
     "name": "stdout",
     "output_type": "stream",
     "text": [
      "Material Name: gasoline\n",
      "Price: $2.38 USD per gal (sold by unit volume)\n",
      "Density: 0.74 g/cm³ or 743 kg/m³\n",
      "Price per m³: $629\n",
      "Price per L: $0.63\n"
     ]
    }
   ],
   "source": [
    "gasoline = Material(name='gasoline', price=2.38, unit='gal', density=0.7429)\n",
    "gasoline.all()"
   ]
  },
  {
   "cell_type": "code",
   "execution_count": 120,
   "metadata": {},
   "outputs": [
    {
     "name": "stdout",
     "output_type": "stream",
     "text": [
      "Material Name: ethanol\n",
      "Price: $2.42 USD per gal (sold by unit volume)\n",
      "Density: 0.79 g/cm³ or 789 kg/m³\n",
      "Price per m³: $639\n",
      "Price per L: $0.64\n"
     ]
    }
   ],
   "source": [
    "ethanol = Material(name='ethanol', price=2.42, unit='gal', density=0.789)\n",
    "ethanol.all()"
   ]
  },
  {
   "cell_type": "code",
   "execution_count": 121,
   "metadata": {},
   "outputs": [
    {
     "name": "stdout",
     "output_type": "stream",
     "text": [
      "Material Name: methanol\n",
      "Price: $319.34 USD per ton (sold by unit mass)\n",
      "Density: 0.79 g/cm³ or 792 kg/m³\n",
      "Price per m³: $279\n",
      "Price per L: $0.28\n"
     ]
    }
   ],
   "source": [
    "methanol = Material(name='methanol', price=2281*0.14, unit='ton', density=0.792)\n",
    "methanol.all()"
   ]
  },
  {
   "cell_type": "code",
   "execution_count": 122,
   "metadata": {},
   "outputs": [
    {
     "name": "stdout",
     "output_type": "stream",
     "text": [
      "Material Name: propane\n",
      "Price: $0.67 USD per gal (sold by unit volume)\n",
      "Density: 0.49 g/cm³ or 493 kg/m³\n",
      "Price per m³: $177\n",
      "Price per L: $0.18\n"
     ]
    }
   ],
   "source": [
    "propane = Material(name='propane', price=0.67, unit='gal', density=0.493)\n",
    "propane.all()"
   ]
  },
  {
   "cell_type": "code",
   "execution_count": 123,
   "metadata": {},
   "outputs": [
    {
     "name": "stdout",
     "output_type": "stream",
     "text": [
      "Material Name: natural_gas\n",
      "Price: $2.12 USD per MMBtu (sold by unit volume)\n",
      "Density: 0.80 g/cm³ or 800 kg/m³\n",
      "Price per m³: $0.07\n",
      "Price per L: $0.00\n"
     ]
    }
   ],
   "source": [
    "natural_gas = Material(name='natural_gas', price=2.12, unit='MMBtu', density=0.8)\n",
    "natural_gas.all()"
   ]
  },
  {
   "cell_type": "code",
   "execution_count": 124,
   "metadata": {},
   "outputs": [
    {
     "name": "stdout",
     "output_type": "stream",
     "text": [
      "Material Name: natural_gas_ttf\n",
      "Price: $40.23 USD per MWh (sold by unit volume)\n",
      "Density: 0.80 g/cm³ or 800 kg/m³\n",
      "Price per m³: $4.85\n",
      "Price per L: $0.00\n"
     ]
    }
   ],
   "source": [
    "natural_gas_ttf = Material(name='natural_gas_ttf', price=36.57*1.1, unit='MWh', density=0.8)\n",
    "natural_gas_ttf.all()"
   ]
  },
  {
   "cell_type": "code",
   "execution_count": 125,
   "metadata": {},
   "outputs": [
    {
     "data": {
      "text/plain": [
       "64655.10312344269"
      ]
     },
     "execution_count": 125,
     "metadata": {},
     "output_type": "execute_result"
    }
   ],
   "source": [
    "gold.ppcm / gold.density / 1000"
   ]
  },
  {
   "cell_type": "code",
   "execution_count": 126,
   "metadata": {},
   "outputs": [
    {
     "name": "stdout",
     "output_type": "stream",
     "text": [
      "19.3\n"
     ]
    }
   ],
   "source": [
    "if isinstance(gold.density, (int, float)):\n",
    "    print(gold.density)"
   ]
  },
  {
   "cell_type": "code",
   "execution_count": null,
   "metadata": {},
   "outputs": [],
   "source": []
  },
  {
   "cell_type": "code",
   "execution_count": 127,
   "metadata": {},
   "outputs": [],
   "source": [
    "def lz_compress(s):\n",
    "    def encode_direct(chunk):\n",
    "        return str(len(chunk)) + chunk\n",
    "\n",
    "    def encode_reference(length, distance):\n",
    "        return str(length) + str(distance)\n",
    "\n",
    "    result = []\n",
    "    i = 0\n",
    "    mode = 1  # Start with direct encoding\n",
    "\n",
    "    while i < len(s):\n",
    "        if mode == 1:  # Direct encoding\n",
    "            chunk = s[i:i+9]  # Maximum length of 9\n",
    "            result.append(encode_direct(chunk))\n",
    "            i += len(chunk)\n",
    "            mode = 2\n",
    "        else:  # Reference encoding\n",
    "            match_length = 0\n",
    "            match_distance = 0\n",
    "\n",
    "            for j in range(1, 10):  # Check back at most 9 characters\n",
    "                for k in range(1, 10):  # Maximum match length of 9\n",
    "                    if i - j >= 0 and i + k - 1 < len(s) and s[i - j:i - j + k] == s[i:i + k]:\n",
    "                        if k > match_length:  # Found a longer match\n",
    "                            match_length = k\n",
    "                            match_distance = j\n",
    "\n",
    "            if match_length > 0:\n",
    "                result.append(encode_reference(match_length, match_distance))\n",
    "                i += match_length\n",
    "            else:\n",
    "                result.append('0')  # No match found, insert zero-length chunk\n",
    "            mode = 1\n",
    "\n",
    "    return ''.join(result)"
   ]
  },
  {
   "cell_type": "code",
   "execution_count": 128,
   "metadata": {},
   "outputs": [
    {
     "data": {
      "text/plain": [
       "'9W6MRDdY3T09PDADdY3TP289WqsHnPDAW489NLqsnND6W139WDWDD1Q3W289GfMG8eT8e43'"
      ]
     },
     "execution_count": 128,
     "metadata": {},
     "output_type": "execute_result"
    }
   ],
   "source": [
    "input_string = \"W6MRDdY3TPDADdY3TPDAWqsHnPDAWqsHnNLqsnND6WDWDWDD1Q3WDWGfMG8eT8eT8eT\"\n",
    "lz_compress(input_string)"
   ]
  },
  {
   "cell_type": "code",
   "execution_count": null,
   "metadata": {},
   "outputs": [],
   "source": []
  },
  {
   "cell_type": "code",
   "execution_count": 129,
   "metadata": {},
   "outputs": [
    {
     "data": {
      "text/plain": [
       "'9abracadab27'"
      ]
     },
     "execution_count": 129,
     "metadata": {},
     "output_type": "execute_result"
    }
   ],
   "source": [
    "input_string = \"abracadabra\"\n",
    "lz_compress(input_string)"
   ]
  },
  {
   "cell_type": "code",
   "execution_count": 130,
   "metadata": {},
   "outputs": [
    {
     "data": {
      "text/plain": [
       "'9mississip111i'"
      ]
     },
     "execution_count": 130,
     "metadata": {},
     "output_type": "execute_result"
    }
   ],
   "source": [
    "input_string = \"mississippi\"\n",
    "lz_compress(input_string)"
   ]
  },
  {
   "cell_type": "code",
   "execution_count": 131,
   "metadata": {},
   "outputs": [],
   "source": [
    "def lz_compress(s):\n",
    "    \"\"\"\n",
    "    Compress a string using Lempel-Ziv encoding.\n",
    "    \"\"\"\n",
    "    output = []\n",
    "    i = 0\n",
    "    while i < len(s):\n",
    "        # Look for the longest substring that can be represented by a reference\n",
    "        # to an earlier part of the uncompressed data.\n",
    "        match_len, match_dist = 0, 0\n",
    "        for j in range(i):\n",
    "            k = 0\n",
    "            while i + k < len(s) and s[j + k] == s[i + k]:\n",
    "                k += 1\n",
    "                if k > match_len:\n",
    "                    match_len, match_dist = k, i - j\n",
    "        # If a suitable match is found and it's longer than 1 char, encode it as type 2 chunk\n",
    "        if match_len > 1:\n",
    "            output.append(str(match_len) + str(match_dist))\n",
    "            i += match_len\n",
    "        else:\n",
    "            # Otherwise, find the longest sequence of non-repeatable chars and encode as type 1 chunk\n",
    "            start = i\n",
    "            i += 1\n",
    "            while i < len(s):\n",
    "                found_repeat = False\n",
    "                for j in range(i):\n",
    "                    k = 0\n",
    "                    while i + k < len(s) and s[j + k] == s[i + k]:\n",
    "                        k += 1\n",
    "                        if k > 1:\n",
    "                            found_repeat = True\n",
    "                            break\n",
    "                if found_repeat:\n",
    "                    break\n",
    "                i += 1\n",
    "            output.append(str(i - start) + s[start:i])\n",
    "    return ''.join(output)"
   ]
  },
  {
   "cell_type": "code",
   "execution_count": 132,
   "metadata": {},
   "outputs": [
    {
     "data": {
      "text/plain": [
       "['7abracad47',\n",
       " '4miss433ppi',\n",
       " '3aAA5338',\n",
       " '627182844',\n",
       " '11abcdefghijk',\n",
       " '1a101',\n",
       " '1a111',\n",
       " '1a121',\n",
       " '12W6MRDdY3TPDA885WqsHn882NL214254D6WD424D1Q33107GfMG8eT63']"
      ]
     },
     "execution_count": 132,
     "metadata": {},
     "output_type": "execute_result"
    }
   ],
   "source": [
    "test_strings = [\n",
    "    \"abracadabra\",\n",
    "    \"mississippi\",\n",
    "    \"aAAaAAaAaAA\",\n",
    "    \"2718281828\",\n",
    "    \"abcdefghijk\",\n",
    "    \"aaaaaaaaaaa\",\n",
    "    \"aaaaaaaaaaaa\",\n",
    "    \"aaaaaaaaaaaaa\",\n",
    "    \"W6MRDdY3TPDADdY3TPDAWqsHnPDAWqsHnNLqsnND6WDWDWDD1Q3WDWGfMG8eT8eT8eT\"\n",
    "]\n",
    "\n",
    "compressed_strings = [lz_compress(s) for s in test_strings]\n",
    "compressed_strings"
   ]
  }
 ],
 "metadata": {
  "kernelspec": {
   "display_name": "base",
   "language": "python",
   "name": "python3"
  },
  "language_info": {
   "codemirror_mode": {
    "name": "ipython",
    "version": 3
   },
   "file_extension": ".py",
   "mimetype": "text/x-python",
   "name": "python",
   "nbconvert_exporter": "python",
   "pygments_lexer": "ipython3",
   "version": "3.10.9"
  },
  "orig_nbformat": 4
 },
 "nbformat": 4,
 "nbformat_minor": 2
}
