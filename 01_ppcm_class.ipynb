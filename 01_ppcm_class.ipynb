{
 "cells": [
  {
   "attachments": {},
   "cell_type": "markdown",
   "metadata": {},
   "source": [
    "### Purpose:\n",
    "The purpose of this notebook is to blah, blah, blah"
   ]
  },
  {
   "attachments": {},
   "cell_type": "markdown",
   "metadata": {},
   "source": [
    "### Dependancies:"
   ]
  },
  {
   "cell_type": "code",
   "execution_count": null,
   "metadata": {},
   "outputs": [],
   "source": [
    "from conversion_factors import volume_conversion_factors, mass_conversion_factors\n",
    "from typing import Union\n",
    "import math"
   ]
  },
  {
   "attachments": {},
   "cell_type": "markdown",
   "metadata": {},
   "source": [
    "### Class:"
   ]
  },
  {
   "cell_type": "code",
   "execution_count": null,
   "metadata": {},
   "outputs": [],
   "source": [
    "class Material:\n",
    "    def __init__(self, name: str = None, price: float = None, unit: str = None, density: float = None, currency: str = 'USD'):\n",
    "        \"\"\"\n",
    "        Initialize a new Material instance.\n",
    "\n",
    "        Args:\n",
    "        - name (str): The name of the material.\n",
    "        - price (float): The price of the material per unit\n",
    "        - unit (str): The unit of measurement for the material.\n",
    "        - density (float): The density of the material.\n",
    "        - currency (str): The currency of the of the sales price. Default is 'USD'\n",
    "\n",
    "        Attributes:\n",
    "        - self.name (str): The name of the material.\n",
    "        - self.price (float): The price of the material per unit.\n",
    "        - self.unit (str): The unit of measurement for the material in which it is sold.\n",
    "        - self.density (float): The density of the material.\n",
    "        - self.currency (str): The currency of the of the sales price.\n",
    "        - self.unit_type (str): Type of unit in which the material is sold: `volume` or `mass`.\n",
    "        - self.ppcm (float): Price per m³.\n",
    "        - self.mass (float): Mass of 1 m³ of the material.\n",
    "    \n",
    "        \"\"\"\n",
    "        self.name = name\n",
    "        self.price = price\n",
    "        self.unit = unit\n",
    "        self.density = density\n",
    "        self.currency = currency\n",
    "        self.unit_type = self.get_unit_type()\n",
    "        self.ppcm = self.calculate_ppcm()\n",
    "        self.mass = self.calculate_mass()\n",
    "        self.ppl = self.calculate_ppl()\n",
    "\n",
    "    def calculate_mass(self) -> Union[float, None]:\n",
    "        \"\"\"\n",
    "        Calculate the mass of the material.\n",
    "\n",
    "        Returns:\n",
    "        - mass (float): The mass of the material.\n",
    "        \"\"\"\n",
    "        if self.density is None:\n",
    "            return None\n",
    "        mass = self.density * 1000\n",
    "        return mass\n",
    "\n",
    "    def get_unit_type(self) -> Union[str, None]:\n",
    "        \"\"\"\n",
    "        Get the unit type of the material: either `volume` or `mass`.\n",
    "\n",
    "        Returns:\n",
    "        - unit_type (str): The unit type of the material.\n",
    "        \"\"\"\n",
    "        if self.unit in volume_conversion_factors and self.unit in mass_conversion_factors:\n",
    "            print(f\"conversion_factors module ambiguity error. unit cannot be in both `volume_conversion_factors` and `mass_conversion_factors`\")\n",
    "        elif self.unit in volume_conversion_factors:\n",
    "            unit_type = 'volume'\n",
    "        elif self.unit in mass_conversion_factors:\n",
    "            unit_type = 'mass'\n",
    "        else:\n",
    "            return None\n",
    "        return unit_type\n",
    "\n",
    "    def calculate_ppcm(self) -> Union[float, None]:\n",
    "        \"\"\"\n",
    "        Calculate the price per m³ of the material.\n",
    "\n",
    "        Returns:\n",
    "        - ppcm (float): The price per m³ of the material.\n",
    "        \"\"\"\n",
    "        if self.unit_type == 'volume':\n",
    "            #print(f\"VCF: {volume_conversion_factors[self.unit]}\")\n",
    "            ppcm = self.price / volume_conversion_factors[self.unit]\n",
    "        elif self.unit_type == 'mass':\n",
    "            #print(f\"MCF: {mass_conversion_factors[self.unit]}\")\n",
    "            if self.density is None:\n",
    "                return None\n",
    "            ppcm = self.price / mass_conversion_factors[self.unit] * self.density * 1000\n",
    "        else:\n",
    "            return None\n",
    "        return ppcm\n",
    "\n",
    "    def calculate_ppl(self) -> Union[float, None]:\n",
    "        \"\"\"\n",
    "        Calculate the price per litre of the material.\n",
    "\n",
    "        Returns:\n",
    "        - ppl (float): The price per litre of the material.\n",
    "        \"\"\"\n",
    "        if isinstance(self.ppcm, (int, float)):\n",
    "            ppl = self.ppcm / 1000\n",
    "            return ppl\n",
    "        else:\n",
    "            print(\"no ppcm\")\n",
    "        return None\n",
    "    \n",
    "    def all(self) -> None:\n",
    "        print(f\"Material Name: {self.name}\")\n",
    "        if isinstance(self.price, (int, float)):\n",
    "            print(f\"Price: ${self.price:,.2f} {self.currency} per {self.unit} (sold by unit {self.unit_type})\")\n",
    "        else:\n",
    "            print(f\"Price: ${self.price} per {self.unit} (sold by unit {self.unit_type})\")\n",
    "        \n",
    "        if isinstance(self.density, (int, float)):\n",
    "            print(f\"Density: {self.density:,.2f} g/cm³ or {self.mass:,.0f} kg/m³\")\n",
    "        else:\n",
    "            print(f\"Density not provided\")\n",
    "        \n",
    "        if isinstance(self.ppcm, (int, float)):\n",
    "            x = 2 if self.ppcm < 100 else 0\n",
    "            precision = -int(math.floor(math.log10(abs(self.ppcm)))) + 2\n",
    "            ppcm_rounded = round(self.ppcm, precision)\n",
    "            print(f\"Price per m³: ${ppcm_rounded:,.{x}f}\")\n",
    "            \n",
    "            x = 2 if self.ppl < 100 else 0\n",
    "            precision = -int(math.floor(math.log10(abs(self.ppl)))) + 2\n",
    "            ppl_rounded = round(self.ppl, precision)\n",
    "            print(f\"Price per L: ${ppl_rounded:,.{x}f}\")\n",
    "\n",
    "        else:\n",
    "            print(f\"Price per m³ not calculated\")"
   ]
  },
  {
   "cell_type": "code",
   "execution_count": null,
   "metadata": {},
   "outputs": [],
   "source": [
    "water = Material(name=\"water\", price=7.38, unit=\"L\", density=1)\n",
    "water.all()"
   ]
  },
  {
   "cell_type": "code",
   "execution_count": null,
   "metadata": {},
   "outputs": [],
   "source": [
    "water = Material(name=\"gasoline\", price=1.59, unit=\"L\", density=0.7429)\n",
    "water.all()"
   ]
  },
  {
   "cell_type": "code",
   "execution_count": null,
   "metadata": {},
   "outputs": [],
   "source": [
    "gold = Material('gold', price=2011.00, unit='troy_oz', density=19.3)\n",
    "gold.all()"
   ]
  },
  {
   "cell_type": "code",
   "execution_count": null,
   "metadata": {},
   "outputs": [],
   "source": [
    "coal = Material(name='coal', price=178, unit='t', density=1.5)\n",
    "coal.all()"
   ]
  },
  {
   "cell_type": "code",
   "execution_count": null,
   "metadata": {},
   "outputs": [],
   "source": [
    "bottled_water = Material(name='bottled_water', price=7.98, unit='L', density=1)\n",
    "bottled_water.all()"
   ]
  },
  {
   "cell_type": "code",
   "execution_count": null,
   "metadata": {},
   "outputs": [],
   "source": [
    "Brent_crude = Material(name='Brent_crude', price=74.281, unit='BBL', density=0.835)\n",
    "Brent_crude.all()"
   ]
  },
  {
   "cell_type": "code",
   "execution_count": null,
   "metadata": {},
   "outputs": [],
   "source": [
    "copper = Material(name='copper', price=3.83, unit='lb', density=8.96)\n",
    "copper.all()"
   ]
  },
  {
   "cell_type": "code",
   "execution_count": null,
   "metadata": {},
   "outputs": [],
   "source": [
    "soy_beans = Material(name='soy_beans', price=1456.25, unit='BU_60', density=0.753)\n",
    "soy_beans.all()"
   ]
  },
  {
   "cell_type": "code",
   "execution_count": null,
   "metadata": {},
   "outputs": [],
   "source": [
    "lumber = Material(name='lumber', price=352.60, unit='BF_1000', density=0.512)\n",
    "lumber.all()"
   ]
  },
  {
   "cell_type": "code",
   "execution_count": null,
   "metadata": {},
   "outputs": [],
   "source": [
    "silver = Material(name='silver', price=25.65, unit='troy_oz', density=10.49)\n",
    "silver.all()"
   ]
  },
  {
   "cell_type": "code",
   "execution_count": null,
   "metadata": {},
   "outputs": [],
   "source": [
    "# find the topography of diamond prices\n",
    "# color\n",
    "# size\n",
    "# clarity\n",
    "# quality?\n",
    "# inclusions"
   ]
  },
  {
   "cell_type": "code",
   "execution_count": null,
   "metadata": {},
   "outputs": [],
   "source": [
    "iron_ore = Material(name='iron_ore', price=103.5, unit='t', density=2.88)\n",
    "iron_ore.all()"
   ]
  },
  {
   "cell_type": "code",
   "execution_count": null,
   "metadata": {},
   "outputs": [],
   "source": [
    "lithium_carbonate = Material(name='lithium_carbonate', price=177500*0.14, unit='ton', density=2.11)\n",
    "lithium_carbonate.all()"
   ]
  },
  {
   "cell_type": "code",
   "execution_count": null,
   "metadata": {},
   "outputs": [],
   "source": [
    "steel = Material(name='steel', price=3552*0.14, unit='t', density=7.85)\n",
    "steel.all()"
   ]
  },
  {
   "cell_type": "code",
   "execution_count": null,
   "metadata": {},
   "outputs": [],
   "source": [
    "heating_oil = Material(name='heating_oil', price=2.32, unit='gal', density=0.87)\n",
    "heating_oil.all()"
   ]
  },
  {
   "cell_type": "code",
   "execution_count": null,
   "metadata": {},
   "outputs": [],
   "source": [
    "uranium = Material(name='uranium', price=53.70, unit='lb', density=19.1)\n",
    "uranium.all()"
   ]
  },
  {
   "cell_type": "code",
   "execution_count": null,
   "metadata": {},
   "outputs": [],
   "source": [
    "naphtha = Material(name='naphtha', price=573.84, unit='ton', density=0.7675)\n",
    "naphtha.all()"
   ]
  },
  {
   "cell_type": "code",
   "execution_count": null,
   "metadata": {},
   "outputs": [],
   "source": [
    "gasoline = Material(name='gasoline', price=2.38, unit='gal', density=0.7429)\n",
    "gasoline.all()"
   ]
  },
  {
   "cell_type": "code",
   "execution_count": null,
   "metadata": {},
   "outputs": [],
   "source": [
    "ethanol = Material(name='ethanol', price=2.42, unit='gal', density=0.789)\n",
    "ethanol.all()"
   ]
  },
  {
   "cell_type": "code",
   "execution_count": null,
   "metadata": {},
   "outputs": [],
   "source": [
    "methanol = Material(name='methanol', price=2281*0.14, unit='ton', density=0.792)\n",
    "methanol.all()"
   ]
  },
  {
   "cell_type": "code",
   "execution_count": null,
   "metadata": {},
   "outputs": [],
   "source": [
    "propane = Material(name='propane', price=0.67, unit='gal', density=0.493)\n",
    "propane.all()"
   ]
  },
  {
   "cell_type": "code",
   "execution_count": null,
   "metadata": {},
   "outputs": [],
   "source": [
    "natural_gas = Material(name='natural_gas', price=2.12, unit='MMBtu', density=0.8)\n",
    "natural_gas.all()"
   ]
  },
  {
   "cell_type": "code",
   "execution_count": null,
   "metadata": {},
   "outputs": [],
   "source": [
    "natural_gas_ttf = Material(name='natural_gas_ttf', price=36.57*1.1, unit='MWh', density=0.8)\n",
    "natural_gas_ttf.all()"
   ]
  },
  {
   "cell_type": "code",
   "execution_count": null,
   "metadata": {},
   "outputs": [],
   "source": [
    "gold.ppcm / gold.density / 1000"
   ]
  },
  {
   "cell_type": "code",
   "execution_count": null,
   "metadata": {},
   "outputs": [],
   "source": [
    "if isinstance(gold.density, (int, float)):\n",
    "    print(gold.density)"
   ]
  },
  {
   "cell_type": "code",
   "execution_count": null,
   "metadata": {},
   "outputs": [],
   "source": []
  }
 ],
 "metadata": {
  "kernelspec": {
   "display_name": "base",
   "language": "python",
   "name": "python3"
  },
  "language_info": {
   "codemirror_mode": {
    "name": "ipython",
    "version": 3
   },
   "file_extension": ".py",
   "mimetype": "text/x-python",
   "name": "python",
   "nbconvert_exporter": "python",
   "pygments_lexer": "ipython3",
   "version": "3.10.9"
  },
  "orig_nbformat": 4
 },
 "nbformat": 4,
 "nbformat_minor": 2
}
