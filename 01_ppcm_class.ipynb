{
 "cells": [
  {
   "attachments": {},
   "cell_type": "markdown",
   "metadata": {},
   "source": [
    "### Purpose:\n",
    "The purpose of this notebook is to blah, blah, blah"
   ]
  },
  {
   "attachments": {},
   "cell_type": "markdown",
   "metadata": {},
   "source": [
    "### Dependancies:"
   ]
  },
  {
   "cell_type": "code",
   "execution_count": 1,
   "metadata": {},
   "outputs": [],
   "source": [
    "from conversion_factors import volume_conversion_factors, mass_conversion_factors"
   ]
  },
  {
   "attachments": {},
   "cell_type": "markdown",
   "metadata": {},
   "source": [
    "### Class:"
   ]
  },
  {
   "cell_type": "code",
   "execution_count": 11,
   "metadata": {},
   "outputs": [],
   "source": [
    "class Material:\n",
    "    def __init__(self, name, price, unit, density=None):\n",
    "\n",
    "        # for x in [name, price, unit]:\n",
    "        #     if self.x == None:\n",
    "        #         print(f\"{self.x} is a manditory input parameter\")\n",
    "        #         break\n",
    "        \n",
    "        # if self.unit in mass_conversion_factors:\n",
    "        #     if\n",
    "        self.name = name\n",
    "        self.price = price\n",
    "        self.unit = unit\n",
    "\n",
    "        if self.is_volume_unit():\n",
    "            self.density = None\n",
    "        else:\n",
    "            self.density = density\n",
    "            if self.density is None:\n",
    "                self.density = self.calculate_density()\n",
    "\n",
    "        self.ppcm = self.calculate_ppcm()\n",
    "\n",
    "    def convert_to_cubic_metre(self, value, unit): \n",
    "        if unit not in volume_conversion_factors and unit not in mass_conversion_factors:\n",
    "            raise ValueError(\"Invalid unit provided. Supported units: \" + \", \".join(volume_conversion_factors.keys() | mass_conversion_factors.keys()))\n",
    "\n",
    "        if unit in volume_conversion_factors:\n",
    "            cubic_meters = value * volume_conversion_factors[unit]\n",
    "        else:\n",
    "            cubic_meters = value * mass_conversion_factors[unit] / self.density\n",
    "\n",
    "        return cubic_meters\n",
    "\n",
    "    def calculate_ppcm(self):\n",
    "        # Convert price and unit to price per cubic metre\n",
    "        if self.is_volume_unit():\n",
    "            ppcm = self.price / self.convert_to_cubic_metre(1, self.unit)\n",
    "        else:\n",
    "            ppcm = self.price / self.convert_to_cubic_metre(1, 'kg')\n",
    "        return ppcm\n",
    "\n",
    "    def calculate_density(self):\n",
    "        if self.is_volume_unit():\n",
    "            return None\n",
    "        else:\n",
    "            # Calculate density from unit and ppcm\n",
    "    \n",
    "            return self.convert_to_cubic_metre(1, self.unit)\n",
    "        \n",
    "    def is_volume_unit(self):\n",
    "        return self.unit in volume_conversion_factors.keys()"
   ]
  },
  {
   "attachments": {},
   "cell_type": "markdown",
   "metadata": {},
   "source": [
    "### Functions:"
   ]
  },
  {
   "cell_type": "code",
   "execution_count": null,
   "metadata": {},
   "outputs": [],
   "source": []
  },
  {
   "attachments": {},
   "cell_type": "markdown",
   "metadata": {},
   "source": [
    "### Execution Code:"
   ]
  },
  {
   "cell_type": "code",
   "execution_count": 12,
   "metadata": {},
   "outputs": [
    {
     "name": "stdout",
     "output_type": "stream",
     "text": [
      "1000.0\n",
      "1.0\n"
     ]
    }
   ],
   "source": [
    "\n",
    "#from material import Material\n",
    "from conversion_factors import volume_conversion_factors, mass_conversion_factors\n",
    "\n",
    "# Create a new Material instance\n",
    "water = Material(\"Water\", 1.00, \"L\")\n",
    "\n",
    "# Print the price per cubic meter of water\n",
    "print(water.ppcm)\n",
    "\n",
    "# Convert 1000 L of water to cubic meters\n",
    "cubic_meters = water.convert_to_cubic_metre(1000, \"L\")\n",
    "print(cubic_meters)\n"
   ]
  },
  {
   "cell_type": "code",
   "execution_count": 13,
   "metadata": {},
   "outputs": [],
   "source": [
    "gold = Material('gold', price=2048.20, unit='troy_oz', density=19.3)"
   ]
  },
  {
   "cell_type": "code",
   "execution_count": 14,
   "metadata": {},
   "outputs": [
    {
     "name": "stdout",
     "output_type": "stream",
     "text": [
      "Price per cubic metre for gold: 39530.26\n"
     ]
    }
   ],
   "source": [
    "print(f\"Price per cubic metre for {gold.name}: {gold.ppcm:.2f}\")"
   ]
  },
  {
   "cell_type": "code",
   "execution_count": 15,
   "metadata": {},
   "outputs": [
    {
     "data": {
      "text/plain": [
       "2048.2"
      ]
     },
     "execution_count": 15,
     "metadata": {},
     "output_type": "execute_result"
    }
   ],
   "source": [
    "gold.price"
   ]
  },
  {
   "cell_type": "code",
   "execution_count": 16,
   "metadata": {},
   "outputs": [
    {
     "data": {
      "text/plain": [
       "19.3"
      ]
     },
     "execution_count": 16,
     "metadata": {},
     "output_type": "execute_result"
    }
   ],
   "source": [
    "gold.density"
   ]
  },
  {
   "cell_type": "code",
   "execution_count": 17,
   "metadata": {},
   "outputs": [
    {
     "data": {
      "text/plain": [
       "'troy_oz'"
      ]
     },
     "execution_count": 17,
     "metadata": {},
     "output_type": "execute_result"
    }
   ],
   "source": [
    "gold.unit"
   ]
  },
  {
   "cell_type": "code",
   "execution_count": 18,
   "metadata": {},
   "outputs": [
    {
     "data": {
      "text/plain": [
       "39530.26"
      ]
     },
     "execution_count": 18,
     "metadata": {},
     "output_type": "execute_result"
    }
   ],
   "source": [
    "gold.ppcm"
   ]
  },
  {
   "cell_type": "code",
   "execution_count": null,
   "metadata": {},
   "outputs": [],
   "source": []
  }
 ],
 "metadata": {
  "kernelspec": {
   "display_name": "base",
   "language": "python",
   "name": "python3"
  },
  "language_info": {
   "codemirror_mode": {
    "name": "ipython",
    "version": 3
   },
   "file_extension": ".py",
   "mimetype": "text/x-python",
   "name": "python",
   "nbconvert_exporter": "python",
   "pygments_lexer": "ipython3",
   "version": "3.10.9"
  },
  "orig_nbformat": 4
 },
 "nbformat": 4,
 "nbformat_minor": 2
}
