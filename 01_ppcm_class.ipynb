{
 "cells": [
  {
   "attachments": {},
   "cell_type": "markdown",
   "metadata": {},
   "source": [
    "### Purpose:\n",
    "The purpose of this notebook is to blah, blah, blah"
   ]
  },
  {
   "attachments": {},
   "cell_type": "markdown",
   "metadata": {},
   "source": [
    "### Dependancies:"
   ]
  },
  {
   "cell_type": "code",
   "execution_count": 231,
   "metadata": {},
   "outputs": [],
   "source": [
    "from conversion_factors import volume_conversion_factors, mass_conversion_factors\n",
    "from typing import Union"
   ]
  },
  {
   "attachments": {},
   "cell_type": "markdown",
   "metadata": {},
   "source": [
    "### Class:"
   ]
  },
  {
   "cell_type": "code",
   "execution_count": 232,
   "metadata": {},
   "outputs": [],
   "source": [
    "class Material:\n",
    "    def __init__(self, name: str = None, price: float = None, unit: str = None, density: float = None):\n",
    "        \"\"\"\n",
    "        Initialize a new Material instance.\n",
    "\n",
    "        Args:\n",
    "        - name (str): The name of the material.\n",
    "        - price (float): The price of the material per unit\n",
    "        - unit (str): The unit of measurement for the material.\n",
    "        - density (float): The density of the material.\n",
    "\n",
    "        Attributes:\n",
    "        - self.name (str): The name of the material.\n",
    "        - self.price (float): The price of the material per unit.\n",
    "        - self.unit (str): The unit of measurement for the material in which it is sold.\n",
    "        - self.density (float): The density of the material.\n",
    "        - self.unit_type (str): Type of unit in which the material is sold: `volume` or `mass`.\n",
    "        - self.ppcm (float): Price per m³.\n",
    "        - self.mass (float): Mass of 1 m³ of the material.\n",
    "    \n",
    "        \"\"\"\n",
    "        self.name = name\n",
    "        self.price = price\n",
    "        self.unit = unit\n",
    "        self.density = density\n",
    "        self.unit_type = self.get_unit_type()\n",
    "        self.ppcm = self.calculate_ppcm()\n",
    "        self.mass = self.calculate_mass()\n",
    "\n",
    "    def calculate_mass(self) -> Union[float, None]:\n",
    "        \"\"\"\n",
    "        Calculate the mass of the material.\n",
    "\n",
    "        Returns:\n",
    "        - mass (float): The mass of the material.\n",
    "        \"\"\"\n",
    "        if self.density is None:\n",
    "            return None\n",
    "        mass = self.density * 1000\n",
    "        return mass\n",
    "\n",
    "    def get_unit_type(self) -> Union[str, None]:\n",
    "        \"\"\"\n",
    "        Get the unit type of the material: either `volume` or `mass`.\n",
    "\n",
    "        Returns:\n",
    "        - unit_type (str): The unit type of the material.\n",
    "        \"\"\"\n",
    "        if self.unit in volume_conversion_factors and self.unit in mass_conversion_factors:\n",
    "            print(f\"conversion_factors module ambiguity error. unit cannot be in both `volume_conversion_factors` and `mass_conversion_factors`\")\n",
    "        elif self.unit in volume_conversion_factors:\n",
    "            unit_type = 'volume'\n",
    "        elif self.unit in mass_conversion_factors:\n",
    "            unit_type = 'mass'\n",
    "        else:\n",
    "            return None\n",
    "        return unit_type\n",
    "\n",
    "    def calculate_ppcm(self) -> Union[float, None]:\n",
    "        \"\"\"\n",
    "        Calculate the price per m³ of the material.\n",
    "\n",
    "        Returns:\n",
    "        - ppcm (float): The price per m³ of the material.\n",
    "        \"\"\"\n",
    "        if self.unit_type == 'volume':\n",
    "            ppcm = self.price / volume_conversion_factors[self.unit]\n",
    "        elif self.unit_type == 'mass':\n",
    "            if self.density is None:\n",
    "                return None\n",
    "            ppcm = self.price / mass_conversion_factors[self.unit] * self.density * 1000\n",
    "        return ppcm\n",
    "    \n",
    "    def all(self) -> None:\n",
    "        print(f\"Material Name: {self.name}\")\n",
    "        if isinstance(self.price, (int, float)):\n",
    "            print(f\"Price: ${self.price:,.2f} per {self.unit} (sold by unit {self.unit_type})\")\n",
    "        else:\n",
    "            print(f\"Price: ${self.price} per {self.unit} (sold by unit {self.unit_type})\")\n",
    "        \n",
    "        if isinstance(self.density, (int, float)):\n",
    "            print(f\"Density: {self.density:,.2f} g/cm³ or {self.mass:,.0f} kg/m³\")\n",
    "        else:\n",
    "            print(f\"Density not provided\")\n",
    "        \n",
    "        if isinstance(self.ppcm, (int, float)):\n",
    "            print(f\"Price per m³: ${self.ppcm:,.0f}\")\n",
    "        else:\n",
    "            print(f\"Price per m³ not calculated\")"
   ]
  },
  {
   "attachments": {},
   "cell_type": "markdown",
   "metadata": {},
   "source": [
    "### Execution Code:"
   ]
  },
  {
   "cell_type": "code",
   "execution_count": 233,
   "metadata": {},
   "outputs": [
    {
     "name": "stdout",
     "output_type": "stream",
     "text": [
      "Material Name: Water\n",
      "Price: $1.59 per L (sold by unit volume)\n",
      "Density: 1.00 g/cm³ or 1,000 kg/m³\n",
      "Price per m³: $1,590\n"
     ]
    }
   ],
   "source": [
    "water = Material(name=\"Water\", price=1.59, unit=\"L\", density=1)\n",
    "water.all()"
   ]
  },
  {
   "cell_type": "code",
   "execution_count": 234,
   "metadata": {},
   "outputs": [
    {
     "name": "stdout",
     "output_type": "stream",
     "text": [
      "Material Name: gold\n",
      "Price: $2,048.20 per troy_oz (sold by unit mass)\n",
      "Density: 19.30 g/cm³ or 19,300 kg/m³\n",
      "Price per m³: $1,270,926,423\n"
     ]
    }
   ],
   "source": [
    "gold = Material('gold', price=2048.20, unit='troy_oz', density=19.3)\n",
    "gold.all()"
   ]
  },
  {
   "cell_type": "code",
   "execution_count": 235,
   "metadata": {},
   "outputs": [
    {
     "name": "stdout",
     "output_type": "stream",
     "text": [
      "Material Name: coal\n",
      "Price: $178.00 per t (sold by unit mass)\n",
      "Density: 1.50 g/cm³ or 1,500 kg/m³\n",
      "Price per m³: $267\n"
     ]
    }
   ],
   "source": [
    "coal = Material(name='coal', price=178, unit='t', density=1.5)\n",
    "coal.all()"
   ]
  },
  {
   "cell_type": "code",
   "execution_count": 236,
   "metadata": {},
   "outputs": [
    {
     "name": "stdout",
     "output_type": "stream",
     "text": [
      "Material Name: bottled_water\n",
      "Price: $7.98 per L (sold by unit volume)\n",
      "Density: 1.00 g/cm³ or 1,000 kg/m³\n",
      "Price per m³: $7,980\n"
     ]
    }
   ],
   "source": [
    "bottled_water = Material(name='bottled_water', price=7.98, unit='L', density=1)\n",
    "bottled_water.all()"
   ]
  },
  {
   "cell_type": "code",
   "execution_count": 239,
   "metadata": {},
   "outputs": [
    {
     "ename": "UnboundLocalError",
     "evalue": "local variable 'ppcm' referenced before assignment",
     "output_type": "error",
     "traceback": [
      "\u001b[0;31m---------------------------------------------------------------------------\u001b[0m",
      "\u001b[0;31mUnboundLocalError\u001b[0m                         Traceback (most recent call last)",
      "Cell \u001b[0;32mIn[239], line 1\u001b[0m\n\u001b[0;32m----> 1\u001b[0m Brent_crude \u001b[39m=\u001b[39m Material(name\u001b[39m=\u001b[39;49m\u001b[39m'\u001b[39;49m\u001b[39mBrent_crude\u001b[39;49m\u001b[39m'\u001b[39;49m, price\u001b[39m=\u001b[39;49m\u001b[39m74.281\u001b[39;49m, unit\u001b[39m=\u001b[39;49m\u001b[39m'\u001b[39;49m\u001b[39mBBL\u001b[39;49m\u001b[39m'\u001b[39;49m, density\u001b[39m=\u001b[39;49m\u001b[39m0.835\u001b[39;49m)\n\u001b[1;32m      2\u001b[0m Brent_crude\u001b[39m.\u001b[39mall()\n",
      "Cell \u001b[0;32mIn[232], line 27\u001b[0m, in \u001b[0;36mMaterial.__init__\u001b[0;34m(self, name, price, unit, density)\u001b[0m\n\u001b[1;32m     25\u001b[0m \u001b[39mself\u001b[39m\u001b[39m.\u001b[39mdensity \u001b[39m=\u001b[39m density\n\u001b[1;32m     26\u001b[0m \u001b[39mself\u001b[39m\u001b[39m.\u001b[39munit_type \u001b[39m=\u001b[39m \u001b[39mself\u001b[39m\u001b[39m.\u001b[39mget_unit_type()\n\u001b[0;32m---> 27\u001b[0m \u001b[39mself\u001b[39m\u001b[39m.\u001b[39mppcm \u001b[39m=\u001b[39m \u001b[39mself\u001b[39;49m\u001b[39m.\u001b[39;49mcalculate_ppcm()\n\u001b[1;32m     28\u001b[0m \u001b[39mself\u001b[39m\u001b[39m.\u001b[39mmass \u001b[39m=\u001b[39m \u001b[39mself\u001b[39m\u001b[39m.\u001b[39mcalculate_mass()\n",
      "Cell \u001b[0;32mIn[232], line 72\u001b[0m, in \u001b[0;36mMaterial.calculate_ppcm\u001b[0;34m(self)\u001b[0m\n\u001b[1;32m     70\u001b[0m         \u001b[39mreturn\u001b[39;00m \u001b[39mNone\u001b[39;00m\n\u001b[1;32m     71\u001b[0m     ppcm \u001b[39m=\u001b[39m \u001b[39mself\u001b[39m\u001b[39m.\u001b[39mprice \u001b[39m/\u001b[39m mass_conversion_factors[\u001b[39mself\u001b[39m\u001b[39m.\u001b[39munit] \u001b[39m*\u001b[39m \u001b[39mself\u001b[39m\u001b[39m.\u001b[39mdensity \u001b[39m*\u001b[39m \u001b[39m1000\u001b[39m\n\u001b[0;32m---> 72\u001b[0m \u001b[39mreturn\u001b[39;00m ppcm\n",
      "\u001b[0;31mUnboundLocalError\u001b[0m: local variable 'ppcm' referenced before assignment"
     ]
    }
   ],
   "source": [
    "Brent_crude = Material(name='Brent_crude', price=74.281, unit='BBL', density=0.835)\n",
    "Brent_crude.all()"
   ]
  },
  {
   "cell_type": "code",
   "execution_count": null,
   "metadata": {},
   "outputs": [],
   "source": [
    "# find the topography of diamond prices\n",
    "# color\n",
    "# size\n",
    "# clarity\n",
    "# quality?\n",
    "# inclusions"
   ]
  },
  {
   "cell_type": "code",
   "execution_count": null,
   "metadata": {},
   "outputs": [],
   "source": []
  }
 ],
 "metadata": {
  "kernelspec": {
   "display_name": "base",
   "language": "python",
   "name": "python3"
  },
  "language_info": {
   "codemirror_mode": {
    "name": "ipython",
    "version": 3
   },
   "file_extension": ".py",
   "mimetype": "text/x-python",
   "name": "python",
   "nbconvert_exporter": "python",
   "pygments_lexer": "ipython3",
   "version": "3.10.9"
  },
  "orig_nbformat": 4
 },
 "nbformat": 4,
 "nbformat_minor": 2
}
