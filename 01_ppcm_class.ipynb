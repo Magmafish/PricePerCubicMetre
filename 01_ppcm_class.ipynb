{
 "cells": [
  {
   "attachments": {},
   "cell_type": "markdown",
   "metadata": {},
   "source": [
    "### Purpose:\n",
    "The purpose of this notebook is to blah, blah, blah"
   ]
  },
  {
   "attachments": {},
   "cell_type": "markdown",
   "metadata": {},
   "source": [
    "### Dependancies:"
   ]
  },
  {
   "cell_type": "code",
   "execution_count": 2,
   "metadata": {},
   "outputs": [],
   "source": [
    "from conversion_factors import volume_conversion_factors, mass_conversion_factors\n",
    "from typing import Union\n",
    "import math"
   ]
  },
  {
   "attachments": {},
   "cell_type": "markdown",
   "metadata": {},
   "source": [
    "### Class:"
   ]
  },
  {
   "cell_type": "code",
   "execution_count": 3,
   "metadata": {},
   "outputs": [],
   "source": [
    "class Material:\n",
    "    def __init__(self, name: str = None, price: float = None, unit: str = None, density: float = None, currency: str = 'USD'):\n",
    "        \"\"\"\n",
    "        Initialize a new Material instance.\n",
    "\n",
    "        Args:\n",
    "        - name (str): The name of the material.\n",
    "        - price (float): The price of the material per unit\n",
    "        - unit (str): The unit of measurement for the material.\n",
    "        - density (float): The density of the material.\n",
    "        - currency (str): The currency of the of the sales price. Default is 'USD'\n",
    "\n",
    "        Attributes:\n",
    "        - self.name (str): The name of the material.\n",
    "        - self.price (float): The price of the material per unit.\n",
    "        - self.unit (str): The unit of measurement for the material in which it is sold.\n",
    "        - self.density (float): The density of the material.\n",
    "        - self.currency (str): The currency of the of the sales price.\n",
    "        - self.unit_type (str): Type of unit in which the material is sold: `volume` or `mass`.\n",
    "        - self.ppcm (float): Price per m³.\n",
    "        - self.mass (float): Mass of 1 m³ of the material.\n",
    "    \n",
    "        \"\"\"\n",
    "        self.name = name\n",
    "        self.price = price\n",
    "        self.unit = unit\n",
    "        self.density = density\n",
    "        self.currency = currency\n",
    "        self.unit_type = self.get_unit_type()\n",
    "        self.ppcm = self.calculate_ppcm()\n",
    "        self.mass = self.calculate_mass()\n",
    "\n",
    "    def calculate_mass(self) -> Union[float, None]:\n",
    "        \"\"\"\n",
    "        Calculate the mass of the material.\n",
    "\n",
    "        Returns:\n",
    "        - mass (float): The mass of the material.\n",
    "        \"\"\"\n",
    "        if self.density is None:\n",
    "            return None\n",
    "        mass = self.density * 1000\n",
    "        return mass\n",
    "\n",
    "    def get_unit_type(self) -> Union[str, None]:\n",
    "        \"\"\"\n",
    "        Get the unit type of the material: either `volume` or `mass`.\n",
    "\n",
    "        Returns:\n",
    "        - unit_type (str): The unit type of the material.\n",
    "        \"\"\"\n",
    "        if self.unit in volume_conversion_factors and self.unit in mass_conversion_factors:\n",
    "            print(f\"conversion_factors module ambiguity error. unit cannot be in both `volume_conversion_factors` and `mass_conversion_factors`\")\n",
    "        elif self.unit in volume_conversion_factors:\n",
    "            unit_type = 'volume'\n",
    "        elif self.unit in mass_conversion_factors:\n",
    "            unit_type = 'mass'\n",
    "        else:\n",
    "            return None\n",
    "        return unit_type\n",
    "\n",
    "    def calculate_ppcm(self) -> Union[float, None]:\n",
    "        \"\"\"\n",
    "        Calculate the price per m³ of the material.\n",
    "\n",
    "        Returns:\n",
    "        - ppcm (float): The price per m³ of the material.\n",
    "        \"\"\"\n",
    "        if self.unit_type == 'volume':\n",
    "            #print(f\"VCF: {volume_conversion_factors[self.unit]}\")\n",
    "            ppcm = self.price / volume_conversion_factors[self.unit]\n",
    "        elif self.unit_type == 'mass':\n",
    "            #print(f\"MCF: {mass_conversion_factors[self.unit]}\")\n",
    "            if self.density is None:\n",
    "                return None\n",
    "            ppcm = self.price / mass_conversion_factors[self.unit] * self.density * 1000\n",
    "        else:\n",
    "            return None\n",
    "        return ppcm\n",
    "\n",
    "    def all(self) -> None:\n",
    "        print(f\"Material Name: {self.name}\")\n",
    "        if isinstance(self.price, (int, float)):\n",
    "            print(f\"Price: ${self.price:,.2f} {self.currency} per {self.unit} (sold by unit {self.unit_type})\")\n",
    "        else:\n",
    "            print(f\"Price: ${self.price} per {self.unit} (sold by unit {self.unit_type})\")\n",
    "        \n",
    "        if isinstance(self.density, (int, float)):\n",
    "            print(f\"Density: {self.density:,.2f} g/cm³ or {self.mass:,.0f} kg/m³\")\n",
    "        else:\n",
    "            print(f\"Density not provided\")\n",
    "        \n",
    "        if isinstance(self.ppcm, (int, float)):\n",
    "            x = 2 if self.ppcm < 100 else 0\n",
    "            precision = -int(math.floor(math.log10(abs(self.ppcm)))) + 1\n",
    "            ppcm_rounded = round(self.ppcm, precision)\n",
    "            print(f\"Price per m³: ${ppcm_rounded:,.{x}f}\")\n",
    "        else:\n",
    "            print(f\"Price per m³ not calculated\")"
   ]
  },
  {
   "cell_type": "code",
   "execution_count": 4,
   "metadata": {},
   "outputs": [
    {
     "name": "stdout",
     "output_type": "stream",
     "text": [
      "Material Name: gasoline\n",
      "Price: $1.59 USD per L (sold by unit volume)\n",
      "Density: 1.00 g/cm³ or 1,000 kg/m³\n",
      "Price per m³: $1,600\n"
     ]
    }
   ],
   "source": [
    "water = Material(name=\"gasoline\", price=1.59, unit=\"L\", density=1)\n",
    "water.all()"
   ]
  },
  {
   "cell_type": "code",
   "execution_count": 5,
   "metadata": {},
   "outputs": [
    {
     "name": "stdout",
     "output_type": "stream",
     "text": [
      "Material Name: gold\n",
      "Price: $2,011.00 USD per troy_oz (sold by unit mass)\n",
      "Density: 19.30 g/cm³ or 19,300 kg/m³\n",
      "Price per m³: $1,200,000,000\n"
     ]
    }
   ],
   "source": [
    "gold = Material('gold', price=2011.00, unit='troy_oz', density=19.3)\n",
    "gold.all()"
   ]
  },
  {
   "cell_type": "code",
   "execution_count": 6,
   "metadata": {},
   "outputs": [
    {
     "name": "stdout",
     "output_type": "stream",
     "text": [
      "Material Name: coal\n",
      "Price: $178.00 USD per t (sold by unit mass)\n",
      "Density: 1.50 g/cm³ or 1,500 kg/m³\n",
      "Price per m³: $270\n"
     ]
    }
   ],
   "source": [
    "coal = Material(name='coal', price=178, unit='t', density=1.5)\n",
    "coal.all()"
   ]
  },
  {
   "cell_type": "code",
   "execution_count": 7,
   "metadata": {},
   "outputs": [
    {
     "name": "stdout",
     "output_type": "stream",
     "text": [
      "Material Name: bottled_water\n",
      "Price: $7.98 USD per L (sold by unit volume)\n",
      "Density: 1.00 g/cm³ or 1,000 kg/m³\n",
      "Price per m³: $8,000\n"
     ]
    }
   ],
   "source": [
    "bottled_water = Material(name='bottled_water', price=7.98, unit='L', density=1)\n",
    "bottled_water.all()"
   ]
  },
  {
   "cell_type": "code",
   "execution_count": 8,
   "metadata": {},
   "outputs": [
    {
     "name": "stdout",
     "output_type": "stream",
     "text": [
      "Material Name: Brent_crude\n",
      "Price: $74.28 USD per BBL (sold by unit volume)\n",
      "Density: 0.83 g/cm³ or 835 kg/m³\n",
      "Price per m³: $470\n"
     ]
    }
   ],
   "source": [
    "Brent_crude = Material(name='Brent_crude', price=74.281, unit='BBL', density=0.835)\n",
    "Brent_crude.all()"
   ]
  },
  {
   "cell_type": "code",
   "execution_count": 9,
   "metadata": {},
   "outputs": [
    {
     "name": "stdout",
     "output_type": "stream",
     "text": [
      "Material Name: copper\n",
      "Price: $3.83 USD per lb (sold by unit mass)\n",
      "Density: 8.96 g/cm³ or 8,960 kg/m³\n",
      "Price per m³: $76,000\n"
     ]
    }
   ],
   "source": [
    "copper = Material(name='copper', price=3.83, unit='lb', density=8.96)\n",
    "copper.all()"
   ]
  },
  {
   "cell_type": "code",
   "execution_count": 10,
   "metadata": {},
   "outputs": [
    {
     "name": "stdout",
     "output_type": "stream",
     "text": [
      "Material Name: soy_beans\n",
      "Price: $1,456.25 USD per BU_60 (sold by unit mass)\n",
      "Density: 0.75 g/cm³ or 753 kg/m³\n",
      "Price per m³: $40,000\n"
     ]
    }
   ],
   "source": [
    "soy_beans = Material(name='soy_beans', price=1456.25, unit='BU_60', density=0.753)\n",
    "soy_beans.all()"
   ]
  },
  {
   "cell_type": "code",
   "execution_count": 11,
   "metadata": {},
   "outputs": [
    {
     "name": "stdout",
     "output_type": "stream",
     "text": [
      "Material Name: lumber\n",
      "Price: $352.60 USD per BF_1000 (sold by unit volume)\n",
      "Density: 0.51 g/cm³ or 512 kg/m³\n",
      "Price per m³: $150\n"
     ]
    }
   ],
   "source": [
    "lumber = Material(name='lumber', price=352.60, unit='BF_1000', density=0.512)\n",
    "lumber.all()"
   ]
  },
  {
   "cell_type": "code",
   "execution_count": 12,
   "metadata": {},
   "outputs": [
    {
     "name": "stdout",
     "output_type": "stream",
     "text": [
      "Material Name: silver\n",
      "Price: $25.65 USD per troy_oz (sold by unit mass)\n",
      "Density: 10.49 g/cm³ or 10,490 kg/m³\n",
      "Price per m³: $8,700,000\n"
     ]
    }
   ],
   "source": [
    "silver = Material(name='silver', price=25.65, unit='troy_oz', density=10.49)\n",
    "silver.all()"
   ]
  },
  {
   "cell_type": "code",
   "execution_count": 13,
   "metadata": {},
   "outputs": [],
   "source": [
    "# find the topography of diamond prices\n",
    "# color\n",
    "# size\n",
    "# clarity\n",
    "# quality?\n",
    "# inclusions"
   ]
  },
  {
   "cell_type": "code",
   "execution_count": 14,
   "metadata": {},
   "outputs": [
    {
     "name": "stdout",
     "output_type": "stream",
     "text": [
      "Material Name: iron_ore\n",
      "Price: $103.50 USD per t (sold by unit mass)\n",
      "Density: 2.88 g/cm³ or 2,880 kg/m³\n",
      "Price per m³: $300\n"
     ]
    }
   ],
   "source": [
    "iron_ore = Material(name='iron_ore', price=103.5, unit='t', density=2.88)\n",
    "iron_ore.all()"
   ]
  },
  {
   "cell_type": "code",
   "execution_count": 15,
   "metadata": {},
   "outputs": [
    {
     "name": "stdout",
     "output_type": "stream",
     "text": [
      "Material Name: lithium_carbonate\n",
      "Price: $24,850.00 USD per ton (sold by unit mass)\n",
      "Density: 2.11 g/cm³ or 2,110 kg/m³\n",
      "Price per m³: $58,000\n"
     ]
    }
   ],
   "source": [
    "lithium_carbonate = Material(name='lithium_carbonate', price=177500*0.14, unit='ton', density=2.11)\n",
    "lithium_carbonate.all()"
   ]
  },
  {
   "cell_type": "code",
   "execution_count": 16,
   "metadata": {},
   "outputs": [
    {
     "name": "stdout",
     "output_type": "stream",
     "text": [
      "Material Name: steel\n",
      "Price: $497.28 USD per t (sold by unit mass)\n",
      "Density: 7.85 g/cm³ or 7,850 kg/m³\n",
      "Price per m³: $3,900\n"
     ]
    }
   ],
   "source": [
    "steel = Material(name='steel', price=3552*0.14, unit='t', density=7.85)\n",
    "steel.all()"
   ]
  },
  {
   "cell_type": "code",
   "execution_count": 17,
   "metadata": {},
   "outputs": [
    {
     "name": "stdout",
     "output_type": "stream",
     "text": [
      "Material Name: heating_oil\n",
      "Price: $2.32 USD per gal (sold by unit volume)\n",
      "Density: 0.87 g/cm³ or 870 kg/m³\n",
      "Price per m³: $610\n"
     ]
    }
   ],
   "source": [
    "heating_oil = Material(name='heating_oil', price=2.32, unit='gal', density=0.87)\n",
    "heating_oil.all()"
   ]
  },
  {
   "cell_type": "code",
   "execution_count": 18,
   "metadata": {},
   "outputs": [
    {
     "name": "stdout",
     "output_type": "stream",
     "text": [
      "Material Name: uranium\n",
      "Price: $53.70 USD per lb (sold by unit mass)\n",
      "Density: 19.10 g/cm³ or 19,100 kg/m³\n",
      "Price per m³: $2,300,000\n"
     ]
    }
   ],
   "source": [
    "uranium = Material(name='uranium', price=53.70, unit='lb', density=19.1)\n",
    "uranium.all()"
   ]
  },
  {
   "cell_type": "code",
   "execution_count": 19,
   "metadata": {},
   "outputs": [
    {
     "name": "stdout",
     "output_type": "stream",
     "text": [
      "Material Name: naphtha\n",
      "Price: $573.84 USD per ton (sold by unit mass)\n",
      "Density: 0.77 g/cm³ or 768 kg/m³\n",
      "Price per m³: $490\n"
     ]
    }
   ],
   "source": [
    "naphtha = Material(name='naphtha', price=573.84, unit='ton', density=0.7675)\n",
    "naphtha.all()"
   ]
  },
  {
   "cell_type": "code",
   "execution_count": 20,
   "metadata": {},
   "outputs": [
    {
     "name": "stdout",
     "output_type": "stream",
     "text": [
      "Material Name: gasoline\n",
      "Price: $2.38 USD per gal (sold by unit volume)\n",
      "Density: 0.74 g/cm³ or 743 kg/m³\n",
      "Price per m³: $630\n"
     ]
    }
   ],
   "source": [
    "gasoline = Material(name='gasoline', price=2.38, unit='gal', density=0.7429)\n",
    "gasoline.all()"
   ]
  },
  {
   "cell_type": "code",
   "execution_count": 21,
   "metadata": {},
   "outputs": [
    {
     "name": "stdout",
     "output_type": "stream",
     "text": [
      "Material Name: ethanol\n",
      "Price: $2.42 USD per gal (sold by unit volume)\n",
      "Density: 0.79 g/cm³ or 789 kg/m³\n",
      "Price per m³: $640\n"
     ]
    }
   ],
   "source": [
    "ethanol = Material(name='ethanol', price=2.42, unit='gal', density=0.789)\n",
    "ethanol.all()"
   ]
  },
  {
   "cell_type": "code",
   "execution_count": 22,
   "metadata": {},
   "outputs": [
    {
     "name": "stdout",
     "output_type": "stream",
     "text": [
      "Material Name: methanol\n",
      "Price: $319.34 USD per ton (sold by unit mass)\n",
      "Density: 0.79 g/cm³ or 792 kg/m³\n",
      "Price per m³: $280\n"
     ]
    }
   ],
   "source": [
    "methanol = Material(name='methanol', price=2281*0.14, unit='ton', density=0.792)\n",
    "methanol.all()"
   ]
  },
  {
   "cell_type": "code",
   "execution_count": 23,
   "metadata": {},
   "outputs": [
    {
     "name": "stdout",
     "output_type": "stream",
     "text": [
      "Material Name: propane\n",
      "Price: $0.67 USD per gal (sold by unit volume)\n",
      "Density: 0.49 g/cm³ or 493 kg/m³\n",
      "Price per m³: $180\n"
     ]
    }
   ],
   "source": [
    "propane = Material(name='propane', price=0.67, unit='gal', density=0.493)\n",
    "propane.all()"
   ]
  },
  {
   "cell_type": "code",
   "execution_count": 24,
   "metadata": {},
   "outputs": [
    {
     "name": "stdout",
     "output_type": "stream",
     "text": [
      "Material Name: natural_gas\n",
      "Price: $2.12 USD per MMBtu (sold by unit volume)\n",
      "Density: 0.80 g/cm³ or 800 kg/m³\n",
      "Price per m³: $0.07\n"
     ]
    }
   ],
   "source": [
    "natural_gas = Material(name='natural_gas', price=2.12, unit='MMBtu', density=0.8)\n",
    "natural_gas.all()"
   ]
  },
  {
   "cell_type": "code",
   "execution_count": 25,
   "metadata": {},
   "outputs": [
    {
     "name": "stdout",
     "output_type": "stream",
     "text": [
      "Material Name: natural_gas_ttf\n",
      "Price: $40.23 USD per MWh (sold by unit volume)\n",
      "Density: 0.80 g/cm³ or 800 kg/m³\n",
      "Price per m³: $4.80\n"
     ]
    }
   ],
   "source": [
    "natural_gas_ttf = Material(name='natural_gas_ttf', price=36.57*1.1, unit='MWh', density=0.8)\n",
    "natural_gas_ttf.all()"
   ]
  },
  {
   "cell_type": "code",
   "execution_count": null,
   "metadata": {},
   "outputs": [],
   "source": []
  }
 ],
 "metadata": {
  "kernelspec": {
   "display_name": "base",
   "language": "python",
   "name": "python3"
  },
  "language_info": {
   "codemirror_mode": {
    "name": "ipython",
    "version": 3
   },
   "file_extension": ".py",
   "mimetype": "text/x-python",
   "name": "python",
   "nbconvert_exporter": "python",
   "pygments_lexer": "ipython3",
   "version": "3.10.9"
  },
  "orig_nbformat": 4
 },
 "nbformat": 4,
 "nbformat_minor": 2
}
