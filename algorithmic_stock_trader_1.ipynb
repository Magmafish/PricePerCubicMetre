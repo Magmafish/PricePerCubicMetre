{
 "cells": [
  {
   "cell_type": "markdown",
   "metadata": {},
   "source": [
    "### \n",
    "Algorithmic Stock Trader I\n",
    "You are attempting to solve a Coding Contract. You have 5 tries remaining, after which the contract will self-destruct.\n",
    "\n",
    "\n",
    "You are given the following array of stock prices (which are numbers) where the i-th element represents the stock price on day i:\n",
    "\n",
    "    191,79,47,4,133,60,145,141,91,60,124,14\n",
    "\n",
    "Determine the maximum possible profit you can earn using at most one transaction (i.e. you can only buy and sell the stock once). If no profit can be made then the answer should be 0. Note that you have to buy the stock before you can sell it"
   ]
  },
  {
   "cell_type": "code",
   "execution_count": 1,
   "metadata": {},
   "outputs": [],
   "source": [
    "def max_profit(prices):\n",
    "    # Initialize variables to track the minimum price and maximum profit\n",
    "    min_price = float('inf')\n",
    "    max_profit = 0\n",
    "\n",
    "    for price in prices:\n",
    "        # Update the minimum price if the current price is lower\n",
    "        min_price = min(min_price, price)\n",
    "\n",
    "        # Calculate the profit if selling at the current price\n",
    "        profit = price - min_price\n",
    "\n",
    "        # Update the maximum profit if the current profit is higher\n",
    "        max_profit = max(max_profit, profit)\n",
    "\n",
    "    return max_profit"
   ]
  },
  {
   "cell_type": "code",
   "execution_count": 2,
   "metadata": {},
   "outputs": [],
   "source": [
    "stock_prices = [43,82,138,154,96,181,126,139,104,191,149,42,116,127,116,51]"
   ]
  },
  {
   "cell_type": "code",
   "execution_count": 3,
   "metadata": {},
   "outputs": [
    {
     "data": {
      "text/plain": [
       "148"
      ]
     },
     "execution_count": 3,
     "metadata": {},
     "output_type": "execute_result"
    }
   ],
   "source": [
    "max_profit(stock_prices)"
   ]
  }
 ],
 "metadata": {
  "kernelspec": {
   "display_name": "base",
   "language": "python",
   "name": "python3"
  },
  "language_info": {
   "codemirror_mode": {
    "name": "ipython",
    "version": 3
   },
   "file_extension": ".py",
   "mimetype": "text/x-python",
   "name": "python",
   "nbconvert_exporter": "python",
   "pygments_lexer": "ipython3",
   "version": "3.10.9"
  }
 },
 "nbformat": 4,
 "nbformat_minor": 2
}
