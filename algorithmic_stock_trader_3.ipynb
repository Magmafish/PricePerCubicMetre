{
 "cells": [
  {
   "cell_type": "markdown",
   "metadata": {},
   "source": [
    "### Algorithmic Stock Trader III\n",
    "You are attempting to solve a Coding Contract. You have 8 tries remaining, after which the contract will self-destruct.\n",
    "\n",
    "\n",
    "You are given the following array of stock prices (which are numbers) where the i-th element represents the stock price on day i:\n",
    "\n",
    "188,51,18,106,33,189,83,178,100,69,103,15,188,85,84,176,182,137,180,84,90,65,23,16,142,120,102,43,38,159,26,166,40,122,185,125,155,161,102,126,141\n",
    "\n",
    "Determine the maximum possible profit you can earn using at most two transactions. A transaction is defined as buying and then selling one share of the stock. Note that you cannot engage in multiple transactions at once. In other words, you must sell the stock before you buy it again.\n",
    "\n",
    "If no profit can be made, then the answer should be 0"
   ]
  },
  {
   "cell_type": "code",
   "execution_count": 2,
   "metadata": {},
   "outputs": [],
   "source": [
    "def maxProfit(prices):\n",
    "    if not prices:\n",
    "        return 0\n",
    "\n",
    "    # Initialize the variables\n",
    "    first_buy, first_sell, second_buy, second_sell = float('-inf'), 0, float('-inf'), 0\n",
    "\n",
    "    for price in prices:\n",
    "        first_buy = max(first_buy, -price)            # The maximum of (previous first_buy, -current price)\n",
    "        first_sell = max(first_sell, first_buy + price) # The maximum of (previous first_sell, first_buy + current price)\n",
    "        second_buy = max(second_buy, first_sell - price) # The maximum of (previous second_buy, first_sell - current price)\n",
    "        second_sell = max(second_sell, second_buy + price) # The maximum of (previous second_sell, second_buy + current price)\n",
    "\n",
    "    return second_sell"
   ]
  },
  {
   "cell_type": "code",
   "execution_count": 3,
   "metadata": {},
   "outputs": [
    {
     "data": {
      "text/plain": [
       "344"
      ]
     },
     "execution_count": 3,
     "metadata": {},
     "output_type": "execute_result"
    }
   ],
   "source": [
    "# Stock prices\n",
    "prices = [188,51,18,106,33,189,83,178,100,69,103,15,188,85,84,176,182,137,180,84,90,65,23,16,142,120,102,43,38,159,26,166,40,122,185,125,155,161,102,126,141]\n",
    "maxProfit(prices)"
   ]
  },
  {
   "cell_type": "code",
   "execution_count": null,
   "metadata": {},
   "outputs": [],
   "source": []
  }
 ],
 "metadata": {
  "kernelspec": {
   "display_name": "base",
   "language": "python",
   "name": "python3"
  },
  "language_info": {
   "codemirror_mode": {
    "name": "ipython",
    "version": 3
   },
   "file_extension": ".py",
   "mimetype": "text/x-python",
   "name": "python",
   "nbconvert_exporter": "python",
   "pygments_lexer": "ipython3",
   "version": "3.10.9"
  }
 },
 "nbformat": 4,
 "nbformat_minor": 2
}
