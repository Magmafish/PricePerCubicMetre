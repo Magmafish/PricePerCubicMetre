{
 "cells": [
  {
   "cell_type": "markdown",
   "metadata": {},
   "source": [
    "### Algorithmic Stock Trader IV\n",
    "You are attempting to solve a Coding Contract. You have 10 tries remaining, after which the contract will self-destruct.\n",
    "\n",
    "\n",
    "You are given the following array with two elements:\n",
    "\n",
    "[10, [134,24,14,96,12,13,153,88,189,17,63,90,44]]\n",
    "\n",
    "The first element is an integer k. The second element is an array of stock prices (which are numbers) where the i-th element represents the stock price on day i.\n",
    "\n",
    "Determine the maximum possible profit you can earn using at most k transactions. A transaction is defined as buying and then selling one share of the stock. Note that you cannot engage in multiple transactions at once. In other words, you must sell the stock before you can buy it again.\n",
    "\n",
    "If no profit can be made, then the answer should be 0."
   ]
  },
  {
   "cell_type": "code",
   "execution_count": 4,
   "metadata": {},
   "outputs": [],
   "source": [
    "def max_profit(aray):\n",
    "    k = aray[0]\n",
    "    prices = aray[1]\n",
    "    if not prices or k == 0:\n",
    "        return 0\n",
    "\n",
    "    n = len(prices)\n",
    "    if k >= n // 2:\n",
    "        # Simple case: as many transactions as we want\n",
    "        return sum(max(prices[i + 1] - prices[i], 0) for i in range(n - 1))\n",
    "\n",
    "    # Dynamic programming solution for limited number of transactions\n",
    "    dp = [[0] * n for _ in range(k + 1)]\n",
    "\n",
    "    for i in range(1, k + 1):\n",
    "        max_diff = -prices[0]\n",
    "        for j in range(1, n):\n",
    "            dp[i][j] = max(dp[i][j - 1], prices[j] + max_diff)\n",
    "            max_diff = max(max_diff, dp[i - 1][j] - prices[j])\n",
    "\n",
    "    return dp[k][-1]"
   ]
  },
  {
   "cell_type": "code",
   "execution_count": 5,
   "metadata": {},
   "outputs": [],
   "source": [
    "priceArray = [5, [140,67,48,169,163,108,92,105]]"
   ]
  },
  {
   "cell_type": "code",
   "execution_count": 6,
   "metadata": {},
   "outputs": [
    {
     "data": {
      "text/plain": [
       "134"
      ]
     },
     "execution_count": 6,
     "metadata": {},
     "output_type": "execute_result"
    }
   ],
   "source": [
    "max_profit(priceArray)"
   ]
  },
  {
   "cell_type": "code",
   "execution_count": null,
   "metadata": {},
   "outputs": [],
   "source": []
  }
 ],
 "metadata": {
  "kernelspec": {
   "display_name": "base",
   "language": "python",
   "name": "python3"
  },
  "language_info": {
   "codemirror_mode": {
    "name": "ipython",
    "version": 3
   },
   "file_extension": ".py",
   "mimetype": "text/x-python",
   "name": "python",
   "nbconvert_exporter": "python",
   "pygments_lexer": "ipython3",
   "version": "3.10.9"
  }
 },
 "nbformat": 4,
 "nbformat_minor": 2
}
