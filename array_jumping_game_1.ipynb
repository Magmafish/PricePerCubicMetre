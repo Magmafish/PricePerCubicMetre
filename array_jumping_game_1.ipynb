{
 "cells": [
  {
   "cell_type": "markdown",
   "metadata": {},
   "source": [
    "### Array Jumping Game I\n",
    "\n",
    "You are attempting to solve a Coding Contract. You have 1 tries remaining, after which the contract will self-destruct.\n",
    "\n",
    "\n",
    "You are given the following array of integers:\n",
    "\n",
    "    0,5,1,0,5,10,0,0,2\n",
    "\n",
    "Each element in the array represents your MAXIMUM jump length at that position. This means that if you are at position i and your maximum jump length is n, you can jump to any position from i to i+n.\n",
    "\n",
    "Assuming you are initially positioned at the start of the array, determine whether you are able to reach the last index.\n",
    "\n",
    "Your answer should be submitted as 1 or 0, representing true and false respectively"
   ]
  },
  {
   "cell_type": "code",
   "execution_count": 7,
   "metadata": {},
   "outputs": [],
   "source": [
    "def can_jump_to_end(nums):\n",
    "    max_reachable = 0\n",
    "    length = len(nums)\n",
    "    for i in range(length):\n",
    "        # If this point is not reachable, break\n",
    "        if i > max_reachable:\n",
    "            return 0\n",
    "        # Update the maximum reachable point\n",
    "        max_reachable = max(max_reachable, i + nums[i])\n",
    "        if max_reachable >= length - 1:\n",
    "            return 1\n",
    "    return 0"
   ]
  },
  {
   "cell_type": "code",
   "execution_count": 8,
   "metadata": {},
   "outputs": [],
   "source": [
    "array = [0,10,6,10,4,7]"
   ]
  },
  {
   "cell_type": "code",
   "execution_count": 9,
   "metadata": {},
   "outputs": [
    {
     "data": {
      "text/plain": [
       "0"
      ]
     },
     "execution_count": 9,
     "metadata": {},
     "output_type": "execute_result"
    }
   ],
   "source": [
    "can_jump_to_end(array)"
   ]
  }
 ],
 "metadata": {
  "kernelspec": {
   "display_name": "base",
   "language": "python",
   "name": "python3"
  },
  "language_info": {
   "codemirror_mode": {
    "name": "ipython",
    "version": 3
   },
   "file_extension": ".py",
   "mimetype": "text/x-python",
   "name": "python",
   "nbconvert_exporter": "python",
   "pygments_lexer": "ipython3",
   "version": "3.10.9"
  }
 },
 "nbformat": 4,
 "nbformat_minor": 2
}
