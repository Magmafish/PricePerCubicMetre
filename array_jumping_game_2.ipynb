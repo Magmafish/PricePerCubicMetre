{
 "cells": [
  {
   "cell_type": "markdown",
   "metadata": {},
   "source": [
    "### Array Jumping Game II\n",
    "You are attempting to solve a Coding Contract. You have 3 tries remaining, after which the contract will self-destruct.\n",
    "\n",
    "\n",
    "You are given the following array of integers:\n",
    "\n",
    "1,1,1,1,1,3\n",
    "\n",
    "Each element in the array represents your MAXIMUM jump length at that position. This means that if you are at position i and your maximum jump length is n, you can jump to any position from i to i+n.\n",
    "\n",
    "Assuming you are initially positioned at the start of the array, determine the minimum number of jumps to reach the end of the array.\n",
    "\n",
    "If it's impossible to reach the end, then the answer should be 0."
   ]
  },
  {
   "cell_type": "code",
   "execution_count": 3,
   "metadata": {},
   "outputs": [],
   "source": [
    "def min_jumps(arr):\n",
    "    n = len(arr)\n",
    "    if n == 0 or arr[0] == 0:\n",
    "        return 0  # Cannot move anywhere\n",
    "\n",
    "    jumps = [0] * n  # jumps[n-1] will hold the result\n",
    "    for i in range(1, n):\n",
    "        jumps[i] = float('inf')\n",
    "        for j in range(i):\n",
    "            if i <= j + arr[j] and jumps[j] != float('inf'):\n",
    "                jumps[i] = min(jumps[i], jumps[j] + 1)\n",
    "                break\n",
    "\n",
    "    return jumps[n-1] if jumps[n-1] != float('inf') else 0"
   ]
  },
  {
   "cell_type": "code",
   "execution_count": 4,
   "metadata": {},
   "outputs": [
    {
     "data": {
      "text/plain": [
       "0"
      ]
     },
     "execution_count": 4,
     "metadata": {},
     "output_type": "execute_result"
    }
   ],
   "source": [
    "min_jumps([4,5,5,0,2,1,2,6,1,0,0,2,1,0,0,3,2,2,3,7])"
   ]
  },
  {
   "cell_type": "code",
   "execution_count": null,
   "metadata": {},
   "outputs": [],
   "source": []
  },
  {
   "cell_type": "code",
   "execution_count": null,
   "metadata": {},
   "outputs": [],
   "source": []
  }
 ],
 "metadata": {
  "kernelspec": {
   "display_name": "base",
   "language": "python",
   "name": "python3"
  },
  "language_info": {
   "codemirror_mode": {
    "name": "ipython",
    "version": 3
   },
   "file_extension": ".py",
   "mimetype": "text/x-python",
   "name": "python",
   "nbconvert_exporter": "python",
   "pygments_lexer": "ipython3",
   "version": "3.10.9"
  }
 },
 "nbformat": 4,
 "nbformat_minor": 2
}
