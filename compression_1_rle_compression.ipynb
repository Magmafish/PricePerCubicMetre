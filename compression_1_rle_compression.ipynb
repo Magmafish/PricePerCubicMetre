{
 "cells": [
  {
   "cell_type": "markdown",
   "metadata": {},
   "source": [
    "### Compression I: RLE Compression\n",
    "You are attempting to solve a Coding Contract. You have 10 tries remaining, after which the contract will self-destruct.\n",
    "\n",
    "\n",
    "Run-length encoding (RLE) is a data compression technique which encodes data as a series of runs of a repeated single character. Runs are encoded as a length, followed by the character itself. Lengths are encoded as a single ASCII digit; runs of 10 characters or more are encoded by splitting them into multiple runs.\n",
    "\n",
    "You are given the following input string:\n",
    "\n",
    "    SSQQjjjJFFcccccccccccccpppppppppppHHH66NNmq55EEEEEEEE66KKFFcttttvFF6\n",
    "Encode it using run-length encoding with the minimum possible output length.\n",
    "\n",
    "Examples:\n",
    "\n",
    "    aaaaabccc            ->  5a1b3c\n",
    "    aAaAaA               ->  1a1A1a1A1a1A\n",
    "    111112333            ->  511233\n",
    "    zzzzzzzzzzzzzzzzzzz  ->  9z9z1z  (or 9z8z2z, etc.)"
   ]
  },
  {
   "cell_type": "code",
   "execution_count": 1,
   "metadata": {},
   "outputs": [],
   "source": [
    "def rle_compression(input_string):\n",
    "    compressed = []\n",
    "    count = 1\n",
    "    prev_char = input_string[0]\n",
    "\n",
    "    for char in input_string[1:]:\n",
    "        if char == prev_char:\n",
    "            count += 1\n",
    "            # Split into multiple runs if count reaches 10\n",
    "            if count == 10:\n",
    "                compressed.append('9' + prev_char)\n",
    "                count = 1\n",
    "        else:\n",
    "            compressed.append(str(count) + prev_char)\n",
    "            count = 1\n",
    "            prev_char = char\n",
    "    \n",
    "    # Add the last run\n",
    "    compressed.append(str(count) + prev_char)\n",
    "\n",
    "    return ''.join(compressed)"
   ]
  },
  {
   "cell_type": "code",
   "execution_count": 3,
   "metadata": {},
   "outputs": [
    {
     "data": {
      "text/plain": [
       "'1H951b5x1b105S9u5u1R1x1D141m1L9z9S3S'"
      ]
     },
     "execution_count": 3,
     "metadata": {},
     "output_type": "execute_result"
    }
   ],
   "source": [
    "rle_compression(\"H555555555bxxxxxb0SSSSSuuuuuuuuuuuuuuRxD4mLzzzzzzzzzSSSSSSSSSSSS\")"
   ]
  },
  {
   "cell_type": "code",
   "execution_count": null,
   "metadata": {},
   "outputs": [],
   "source": []
  }
 ],
 "metadata": {
  "kernelspec": {
   "display_name": "base",
   "language": "python",
   "name": "python3"
  },
  "language_info": {
   "codemirror_mode": {
    "name": "ipython",
    "version": 3
   },
   "file_extension": ".py",
   "mimetype": "text/x-python",
   "name": "python",
   "nbconvert_exporter": "python",
   "pygments_lexer": "ipython3",
   "version": "3.10.9"
  }
 },
 "nbformat": 4,
 "nbformat_minor": 2
}
