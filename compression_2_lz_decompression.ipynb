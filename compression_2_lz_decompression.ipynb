{
 "cells": [
  {
   "cell_type": "markdown",
   "metadata": {},
   "source": [
    "### Compression II: LZ Decompression\n",
    "You are attempting to solve a Coding Contract. You have 10 tries remaining, after which the contract will self-destruct.\n",
    "\n",
    "\n",
    "Lempel-Ziv (LZ) compression is a data compression technique which encodes data using references to earlier parts of the data. In this variant of LZ, data is encoded in two types of chunk. Each chunk begins with a length L, encoded as a single ASCII digit from 1 to 9, followed by the chunk data, which is either:\n",
    "\n",
    "1. Exactly L characters, which are to be copied directly into the uncompressed data.\n",
    "2. A reference to an earlier part of the uncompressed data. To do this, the length is followed by a second ASCII digit X: each of the L output characters is a copy of the character X places before it in the uncompressed data.\n",
    "\n",
    "For both chunk types, a length of 0 instead means the chunk ends immediately, and the next character is the start of a new chunk. The two chunk types alternate, starting with type 1, and the final chunk may be of either type.\n",
    "\n",
    "You are given the following LZ-encoded string:\n",
    "    6QcDxUE535P7p7I434VSR6316iv2l6H729Sn7OFUcFE030fl672mS64\n",
    "Decode it and output the original string.\n",
    "\n",
    "Example: decoding '5aaabb450723abb' chunk-by-chunk\n",
    "\n",
    "    5aaabb           ->  aaabb\n",
    "    5aaabb45         ->  aaabbaaab\n",
    "    5aaabb450        ->  aaabbaaab\n",
    "    5aaabb45072      ->  aaabbaaababababa\n",
    "    5aaabb450723abb  ->  aaabbaaababababaabb"
   ]
  },
  {
   "cell_type": "code",
   "execution_count": 1,
   "metadata": {},
   "outputs": [],
   "source": [
    "def lz_decompress(encoded_str):\n",
    "    # Initialize variables\n",
    "    uncompressed_str = \"\"\n",
    "    i = 0\n",
    "    chunk_type = 1  # Start with direct copy chunk\n",
    "\n",
    "    while i < len(encoded_str):\n",
    "        length = int(encoded_str[i])  # Get the length of the chunk\n",
    "        i += 1  # Move to the start of chunk data\n",
    "\n",
    "        if length == 0:\n",
    "            # If length is 0, switch chunk type and continue to next chunk\n",
    "            chunk_type = 3 - chunk_type  # Switch between 1 and 2\n",
    "            continue\n",
    "\n",
    "        if chunk_type == 1:  # Direct copy chunk\n",
    "            uncompressed_str += encoded_str[i:i + length]\n",
    "            i += length\n",
    "        else:  # Reference chunk\n",
    "            ref_distance = int(encoded_str[i])  # Get the reference distance\n",
    "            i += 1\n",
    "            for _ in range(length):\n",
    "                uncompressed_str += uncompressed_str[-ref_distance]\n",
    "\n",
    "        # Switch chunk type after processing each chunk\n",
    "        chunk_type = 3 - chunk_type\n",
    "\n",
    "    return uncompressed_str"
   ]
  },
  {
   "cell_type": "code",
   "execution_count": 2,
   "metadata": {},
   "outputs": [
    {
     "data": {
      "text/plain": [
       "'kz7ytytytyytytytyja6X816VY8166VY818166VY81X66VY81UCY81UCYXCY81UeC3V'"
      ]
     },
     "execution_count": 2,
     "metadata": {},
     "output_type": "execute_result"
    }
   ],
   "source": [
    "encoded_string = \"5kz7yt520779ja6X816VY350560881X672UC651X584eC3V\"\n",
    "lz_decompress(encoded_string)"
   ]
  },
  {
   "cell_type": "code",
   "execution_count": null,
   "metadata": {},
   "outputs": [],
   "source": []
  }
 ],
 "metadata": {
  "kernelspec": {
   "display_name": "base",
   "language": "python",
   "name": "python3"
  },
  "language_info": {
   "codemirror_mode": {
    "name": "ipython",
    "version": 3
   },
   "file_extension": ".py",
   "mimetype": "text/x-python",
   "name": "python",
   "nbconvert_exporter": "python",
   "pygments_lexer": "ipython3",
   "version": "3.10.9"
  }
 },
 "nbformat": 4,
 "nbformat_minor": 2
}
