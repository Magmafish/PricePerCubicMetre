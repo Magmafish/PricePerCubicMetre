{
 "cells": [
  {
   "cell_type": "markdown",
   "metadata": {},
   "source": [
    "### Compression III: LZ Compression\n",
    "You are attempting to solve a Coding Contract. You have 10 tries remaining, after which the contract will self-destruct.\n",
    "\n",
    "\n",
    "Lempel-Ziv (LZ) compression is a data compression technique which encodes data using references to earlier parts of the data. In this variant of LZ, data is encoded in two types of chunk. Each chunk begins with a length L, encoded as a single ASCII digit from 1 to 9, followed by the chunk data, which is either:\n",
    "\n",
    "1. Exactly L characters, which are to be copied directly into the uncompressed data.\n",
    "2. A reference to an earlier part of the uncompressed data. To do this, the length is followed by a second ASCII digit X: each of the L output characters is a copy of the character X places before it in the uncompressed data.\n",
    "\n",
    "For both chunk types, a length of 0 instead means the chunk ends immediately, and the next character is the start of a new chunk. The two chunk types alternate, starting with type 1, and the final chunk may be of either type.\n",
    "\n",
    "You are given the following input string:\n",
    "\n",
    "    080808080UFwj1WFwj1WFwjmUlqk20fJqk20fELSk20fELSk21KAE5LS\n",
    "Encode it using Lempel-Ziv encoding with the minimum possible output length.\n",
    "\n",
    "Examples (some have other possible encodings of minimal length):\n",
    "\n",
    "    abracadabra     ->  7abracad47\n",
    "    mississippi     ->  4miss433ppi\n",
    "    aAAaAAaAaAA     ->  3aAA53035\n",
    "    2718281828      ->  627182844\n",
    "    abcdefghijk     ->  9abcdefghi02jk\n",
    "    aaaaaaaaaaaa    ->  3aaa91\n",
    "    aaaaaaaaaaaaa   ->  1a91031\n",
    "    aaaaaaaaaaaaaa  ->  1a91041"
   ]
  },
  {
   "cell_type": "code",
   "execution_count": 1,
   "metadata": {},
   "outputs": [],
   "source": [
    "def lz_compress(data):\n",
    "    output = []\n",
    "    i = 0\n",
    "    while i < len(data):\n",
    "        # Find longest match for the next sequence in the previous data\n",
    "        max_match_length = 0\n",
    "        max_match_distance = 0\n",
    "        for j in range(max(0, i - 9), i):\n",
    "            match_length = 0\n",
    "            while match_length < min(9, i - j, len(data) - i) and data[i + match_length] == data[j + match_length]:\n",
    "                match_length += 1\n",
    "            if match_length > max_match_length:\n",
    "                max_match_length = match_length\n",
    "                max_match_distance = i - j\n",
    "\n",
    "        # If a match is found, encode it as a reference\n",
    "        if max_match_length > 1:\n",
    "            output.append(f\"{max_match_length}{max_match_distance}\")\n",
    "            i += max_match_length\n",
    "        else:\n",
    "            # Encode the next character(s) directly\n",
    "            direct_length = 1\n",
    "            while direct_length < 9 and i + direct_length < len(data) and direct_length <= max_match_distance:\n",
    "                direct_length += 1\n",
    "            output.append(f\"{direct_length}{data[i:i+direct_length]}\")\n",
    "            i += direct_length\n",
    "\n",
    "    return ''.join(output)"
   ]
  },
  {
   "cell_type": "code",
   "execution_count": 2,
   "metadata": {},
   "outputs": [],
   "source": [
    "input_string = \"080808080UFwj1WFwj1WFwjmUlqk20fJqk20fELSk20fELSk21KAE5LS\""
   ]
  },
  {
   "cell_type": "code",
   "execution_count": 3,
   "metadata": {},
   "outputs": [
    {
     "data": {
      "text/plain": [
       "'1018224490UFwj1WFw556jmUlqk12101f1J561E1L1S7727111K1A4E5LS'"
      ]
     },
     "execution_count": 3,
     "metadata": {},
     "output_type": "execute_result"
    }
   ],
   "source": [
    "lz_compress(input_string)"
   ]
  }
 ],
 "metadata": {
  "kernelspec": {
   "display_name": "Python 3",
   "language": "python",
   "name": "python3"
  },
  "language_info": {
   "codemirror_mode": {
    "name": "ipython",
    "version": 3
   },
   "file_extension": ".py",
   "mimetype": "text/x-python",
   "name": "python",
   "nbconvert_exporter": "python",
   "pygments_lexer": "ipython3",
   "version": "3.8.10"
  }
 },
 "nbformat": 4,
 "nbformat_minor": 2
}
