{
 "cells": [
  {
   "cell_type": "markdown",
   "metadata": {},
   "source": [
    "### Encryption I: Caesar Cipher\n",
    "You are attempting to solve a Coding Contract. You have 10 tries remaining, after which the contract will self-destruct.\n",
    "\n",
    "\n",
    "Caesar cipher is one of the simplest encryption technique. It is a type of substitution cipher in which each letter in the plaintext is replaced by a letter some fixed number of positions down the alphabet. For example, with a left shift of 3, D would be replaced by A, E would become B, and A would become X (because of rotation).\n",
    "\n",
    "You are given an array with two elements:\n",
    "\n",
    "    [\"ENTER MODEM DEBUG MEDIA LOGIN\", 13]\n",
    "\n",
    "The first element is the plaintext, the second element is the left shift value.\n",
    "\n",
    "Return the ciphertext as uppercase string. Spaces remains the same."
   ]
  },
  {
   "cell_type": "code",
   "execution_count": 3,
   "metadata": {},
   "outputs": [],
   "source": [
    "def caesar_cipher(text, shift):\n",
    "    result = \"\"\n",
    "    for char in text:\n",
    "        if char.isalpha():\n",
    "            shifted = ord(char) - shift\n",
    "            if char.isupper():\n",
    "                if shifted < ord('A'):\n",
    "                    shifted += 26\n",
    "            elif char.islower():\n",
    "                if shifted < ord('a'):\n",
    "                    shifted += 26\n",
    "            result += chr(shifted)\n",
    "        else:\n",
    "            result += char  # Keeping spaces the same\n",
    "    return result.upper()"
   ]
  },
  {
   "cell_type": "code",
   "execution_count": 4,
   "metadata": {},
   "outputs": [
    {
     "data": {
      "text/plain": [
       "'OSCSC GLZMV YPPYW DPYKC KYAPM'"
      ]
     },
     "execution_count": 4,
     "metadata": {},
     "output_type": "execute_result"
    }
   ],
   "source": [
    "plaintext, shift = [\"QUEUE INBOX ARRAY FRAME MACRO\", 2]\n",
    "caesar_cipher(plaintext, shift)"
   ]
  },
  {
   "cell_type": "code",
   "execution_count": null,
   "metadata": {},
   "outputs": [],
   "source": []
  }
 ],
 "metadata": {
  "kernelspec": {
   "display_name": "base",
   "language": "python",
   "name": "python3"
  },
  "language_info": {
   "codemirror_mode": {
    "name": "ipython",
    "version": 3
   },
   "file_extension": ".py",
   "mimetype": "text/x-python",
   "name": "python",
   "nbconvert_exporter": "python",
   "pygments_lexer": "ipython3",
   "version": "3.10.9"
  }
 },
 "nbformat": 4,
 "nbformat_minor": 2
}
