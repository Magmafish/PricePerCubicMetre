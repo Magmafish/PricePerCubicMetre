{
 "cells": [
  {
   "cell_type": "markdown",
   "metadata": {},
   "source": [
    "### Encryption II: Vigenère Cipher\n",
    "\n",
    "You are attempting to solve a Coding Contract. You have 10 tries remaining, after which the contract will self-destruct.\n",
    "\n",
    "Vigenère cipher is a type of polyalphabetic substitution. It uses the Vigenère square to encrypt and decrypt plaintext with a keyword.\n",
    "\n",
    "  Vigenère square:\n",
    "  \n",
    "         A B C D E F G H I J K L M N O P Q R S T U V W X Y Z\n",
    "       +----------------------------------------------------\n",
    "     A | A B C D E F G H I J K L M N O P Q R S T U V W X Y Z\n",
    "     B | B C D E F G H I J K L M N O P Q R S T U V W X Y Z A\n",
    "     C | C D E F G H I J K L M N O P Q R S T U V W X Y Z A B\n",
    "     D | D E F G H I J K L M N O P Q R S T U V W X Y Z A B C\n",
    "     E | E F G H I J K L M N O P Q R S T U V W X Y Z A B C D\n",
    "                ...\n",
    "     Y | Y Z A B C D E F G H I J K L M N O P Q R S T U V W X\n",
    "     Z | Z A B C D E F G H I J K L M N O P Q R S T U V W X Y\n",
    "\n",
    "For encryption each letter of the plaintext is paired with the corresponding letter of a repeating keyword. For example, the plaintext DASHBOARD is encrypted with the keyword LINUX:\n",
    "\n",
    "    Plaintext: DASHBOARD\n",
    "    Keyword:   LINUXLINU\n",
    "\n",
    "So, the first letter D is paired with the first letter of the key L. Therefore, row D and column L of the Vigenère square are used to get the first cipher letter O. This must be repeated for the whole ciphertext.\n",
    "\n",
    "You are given an array with two elements:\n",
    "\n",
    "    [\"LOGININBOXQUEUEENTERPRINT\", \"DASHBOARD\"]\n",
    "\n",
    "The first element is the plaintext, the second element is the keyword.\n",
    "\n",
    "Return the ciphertext as uppercase string."
   ]
  },
  {
   "cell_type": "code",
   "execution_count": 5,
   "metadata": {},
   "outputs": [],
   "source": [
    "def vigenere_cipher_encrypt(plaintext, keyword):\n",
    "    # Define the Vigenère square\n",
    "    vigenere_square = {}\n",
    "    for i in range(26):\n",
    "        row = []\n",
    "        for j in range(26):\n",
    "            row.append(chr((i + j) % 26 + 65))  # 65 is ASCII for 'A'\n",
    "        vigenere_square[chr(i + 65)] = row\n",
    "\n",
    "    # Repeat the keyword to match the length of the plaintext\n",
    "    repeated_keyword = (keyword * (len(plaintext) // len(keyword) + 1))[:len(plaintext)]\n",
    "\n",
    "    # Encrypt the plaintext\n",
    "    ciphertext = \"\"\n",
    "    for p_letter, k_letter in zip(plaintext, repeated_keyword):\n",
    "        row = vigenere_square[p_letter]\n",
    "        col = ord(k_letter) - 65\n",
    "        ciphertext += row[col]\n",
    "\n",
    "    return ciphertext"
   ]
  },
  {
   "cell_type": "code",
   "execution_count": 6,
   "metadata": {},
   "outputs": [
    {
     "data": {
      "text/plain": [
       "'OOYPOWNSRAQMLVSEEWHRHYJBT'"
      ]
     },
     "execution_count": 6,
     "metadata": {},
     "output_type": "execute_result"
    }
   ],
   "source": [
    "data = [\"LOGININBOXQUEUEENTERPRINT\", \"DASHBOARD\"]\n",
    "encrypted_text = vigenere_cipher_encrypt(data[0], data[1])\n",
    "encrypted_text"
   ]
  },
  {
   "cell_type": "code",
   "execution_count": 7,
   "metadata": {},
   "outputs": [
    {
     "data": {
      "text/plain": [
       "'YSZEQDYHWXZSSETEKNOPCUMYP'"
      ]
     },
     "execution_count": 7,
     "metadata": {},
     "output_type": "execute_result"
    }
   ],
   "source": [
    "data = [\"LOGICMOUSEDEBUGARRAYSHIFT\", \"NETWORK\"]\n",
    "encrypted_text = vigenere_cipher_encrypt(data[0], data[1])\n",
    "encrypted_text"
   ]
  },
  {
   "cell_type": "code",
   "execution_count": null,
   "metadata": {},
   "outputs": [],
   "source": []
  }
 ],
 "metadata": {
  "kernelspec": {
   "display_name": "base",
   "language": "python",
   "name": "python3"
  },
  "language_info": {
   "codemirror_mode": {
    "name": "ipython",
    "version": 3
   },
   "file_extension": ".py",
   "mimetype": "text/x-python",
   "name": "python",
   "nbconvert_exporter": "python",
   "pygments_lexer": "ipython3",
   "version": "3.10.9"
  }
 },
 "nbformat": 4,
 "nbformat_minor": 2
}
