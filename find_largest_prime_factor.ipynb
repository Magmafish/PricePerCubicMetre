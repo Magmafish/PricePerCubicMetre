{
 "cells": [
  {
   "cell_type": "markdown",
   "metadata": {},
   "source": [
    "### Find Largest Prime Factor\n",
    "You are attempting to solve a Coding Contract. You have 10 tries remaining, after which the contract will self-destruct.\n",
    "\n",
    "\n",
    "A prime factor is a factor that is a prime number. What is the largest prime factor of 889038349?"
   ]
  },
  {
   "cell_type": "code",
   "execution_count": 3,
   "metadata": {},
   "outputs": [],
   "source": [
    "def largest_prime_factor(n):\n",
    "    # Initialize the largest factor to be the smallest possible prime factor\n",
    "    largest_factor = 2\n",
    "\n",
    "    # Divide out all factors of 2\n",
    "    while n % 2 == 0:\n",
    "        largest_factor = 2\n",
    "        n //= 2\n",
    "\n",
    "    # Start checking for odd factors\n",
    "    factor = 3\n",
    "    while factor * factor <= n:\n",
    "        # If factor is a factor of n\n",
    "        if n % factor == 0:\n",
    "            largest_factor = factor\n",
    "            n //= factor\n",
    "        else:\n",
    "            # Only need to check odd numbers\n",
    "            factor += 2\n",
    "\n",
    "    # If n is a prime number greater than 2\n",
    "    if n > 2:\n",
    "        largest_factor = n\n",
    "\n",
    "    return largest_factor"
   ]
  },
  {
   "cell_type": "code",
   "execution_count": 4,
   "metadata": {},
   "outputs": [
    {
     "data": {
      "text/plain": [
       "445891"
      ]
     },
     "execution_count": 4,
     "metadata": {},
     "output_type": "execute_result"
    }
   ],
   "source": [
    "largest_prime_factor(965799906)"
   ]
  },
  {
   "cell_type": "code",
   "execution_count": null,
   "metadata": {},
   "outputs": [],
   "source": []
  }
 ],
 "metadata": {
  "kernelspec": {
   "display_name": "base",
   "language": "python",
   "name": "python3"
  },
  "language_info": {
   "codemirror_mode": {
    "name": "ipython",
    "version": 3
   },
   "file_extension": ".py",
   "mimetype": "text/x-python",
   "name": "python",
   "nbconvert_exporter": "python",
   "pygments_lexer": "ipython3",
   "version": "3.10.9"
  }
 },
 "nbformat": 4,
 "nbformat_minor": 2
}
