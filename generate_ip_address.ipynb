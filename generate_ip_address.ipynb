{
 "cells": [
  {
   "cell_type": "markdown",
   "metadata": {},
   "source": [
    "### Generate IP Addresses\n",
    "You are attempting to solve a Coding Contract. You have 10 tries remaining, after which the contract will self-destruct.\n",
    "\n",
    "\n",
    "Given the following string containing only digits, return an array with all possible valid IP address combinations that can be created from the string:\n",
    "\n",
    "862337531\n",
    "\n",
    "Note that an octet cannot begin with a '0' unless the number itself is actually 0. For example, '192.168.010.1' is not a valid IP.\n",
    "\n",
    "Examples:\n",
    "\n",
    "    25525511135 -> [\"255.255.11.135\", \"255.255.111.35\"]\n",
    "    1938718066 -> [\"193.87.180.66\"]"
   ]
  },
  {
   "cell_type": "code",
   "execution_count": 1,
   "metadata": {},
   "outputs": [],
   "source": [
    "def generate_ip_addresses(s):\n",
    "    def is_valid_octet(octet):\n",
    "        # Check if the octet is a valid part of an IP address\n",
    "        return len(octet) == 1 or (octet[0] != '0' and int(octet) <= 255)\n",
    "\n",
    "    def backtrack(start, path):\n",
    "        # If 4 octets are reached and the whole string is used\n",
    "        if len(path) == 4 and start == len(s):\n",
    "            result.append('.'.join(path))\n",
    "            return\n",
    "\n",
    "        # If 4 octets are reached but the whole string is not used\n",
    "        if len(path) == 4:\n",
    "            return\n",
    "\n",
    "        # Try different lengths for the next octet\n",
    "        for i in range(1, 4):\n",
    "            if start + i <= len(s):\n",
    "                octet = s[start:start + i]\n",
    "                if is_valid_octet(octet):\n",
    "                    backtrack(start + i, path + [octet])\n",
    "\n",
    "    result = []\n",
    "    backtrack(0, [])\n",
    "    return result"
   ]
  },
  {
   "cell_type": "code",
   "execution_count": 2,
   "metadata": {},
   "outputs": [
    {
     "data": {
      "text/plain": [
       "['126.115.239.60']"
      ]
     },
     "execution_count": 2,
     "metadata": {},
     "output_type": "execute_result"
    }
   ],
   "source": [
    "generate_ip_addresses(\"12611523960\")"
   ]
  },
  {
   "cell_type": "code",
   "execution_count": null,
   "metadata": {},
   "outputs": [],
   "source": []
  }
 ],
 "metadata": {
  "kernelspec": {
   "display_name": "base",
   "language": "python",
   "name": "python3"
  },
  "language_info": {
   "codemirror_mode": {
    "name": "ipython",
    "version": 3
   },
   "file_extension": ".py",
   "mimetype": "text/x-python",
   "name": "python",
   "nbconvert_exporter": "python",
   "pygments_lexer": "ipython3",
   "version": "3.10.9"
  }
 },
 "nbformat": 4,
 "nbformat_minor": 2
}
