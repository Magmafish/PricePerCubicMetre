{
 "cells": [
  {
   "cell_type": "markdown",
   "metadata": {},
   "source": [
    "### HammingCodes: Integer to Encoded Binary\n",
    "You are attempting to solve a Coding Contract. You have 10 tries remaining, after which the contract will self-destruct.\n",
    "\n",
    "\n",
    "You are given the following decimal Value:\n",
    "\n",
    "    42\n",
    "Convert it to a binary representation and encode it as an 'extended Hamming code'. Eg:\n",
    "Value 8 is expressed in binary as '1000', which will be encoded with the pattern 'pppdpddd', where p is a parity bit and d a data bit. The encoding of\n",
    "8 is 11110000. As another example, '10101' (Value 21) will result into (pppdpdddpd) '1001101011'.\n",
    "\n",
    "The answer should be given as a string containing only 1s and 0s.\n",
    "\n",
    "NOTE: the endianness of the data bits is reversed in relation to the endianness of the parity bits.\n",
    "\n",
    "NOTE: The bit at index zero is the overall parity bit, this should be set last.\n",
    "\n",
    "NOTE 2: You should watch the Hamming Code video from 3Blue1Brown, which explains the 'rule' of encoding, including the first index parity bit mentioned in the previous note.\n",
    "\n",
    "Extra rule for encoding:\n",
    "There should be no leading zeros in the 'data bit' section"
   ]
  },
  {
   "cell_type": "code",
   "execution_count": 13,
   "metadata": {},
   "outputs": [],
   "source": [
    "def encode_hamming_decimal(decimal_value):\n",
    "    \"\"\" Encode a decimal value using extended Hamming code. \"\"\"\n",
    "    # Convert the decimal value to binary\n",
    "    binary_value = format(decimal_value, 'b')\n",
    "\n",
    "    # Convert binary string to a list of integers\n",
    "    data_bits = [int(bit) for bit in binary_value]\n",
    "\n",
    "    # Calculate the number of parity bits needed\n",
    "    m = len(data_bits)\n",
    "    r = 0\n",
    "    while (2 ** r) < (m + r + 1):\n",
    "        r += 1\n",
    "\n",
    "    # Initialize Hamming code array with None (to be replaced by parity bits)\n",
    "    # +1 for overall parity bit\n",
    "    hamming_code = [None] * (m + r + 1)\n",
    "\n",
    "    # Set data bits in Hamming code (skipping positions that are powers of 2)\n",
    "    j = 0\n",
    "    for i in range(1, len(hamming_code)):\n",
    "        if not (i & (i - 1)) == 0:  # i is not a power of 2\n",
    "            hamming_code[i] = data_bits[j]\n",
    "            j += 1\n",
    "\n",
    "    # Calculate and set parity bits\n",
    "    for i in range(r):\n",
    "        parity_position = 2 ** i\n",
    "        parity = 0\n",
    "        for j in range(1, len(hamming_code)):\n",
    "            if j & parity_position:\n",
    "                parity ^= hamming_code[j] if hamming_code[j] is not None else 0\n",
    "        hamming_code[parity_position] = parity\n",
    "\n",
    "    # Calculate overall parity\n",
    "    overall_parity = 0\n",
    "    for bit in hamming_code[1:]:\n",
    "        overall_parity ^= bit if bit is not None else 0\n",
    "    hamming_code[0] = overall_parity\n",
    "\n",
    "    # Convert to string\n",
    "    encoded_string = ''.join(str(bit) for bit in hamming_code if bit is not None)\n",
    "\n",
    "    return encoded_string"
   ]
  },
  {
   "cell_type": "code",
   "execution_count": 14,
   "metadata": {},
   "outputs": [
    {
     "data": {
      "text/plain": [
       "'10011010110'"
      ]
     },
     "execution_count": 14,
     "metadata": {},
     "output_type": "execute_result"
    }
   ],
   "source": [
    "encode_hamming_decimal(42)"
   ]
  },
  {
   "cell_type": "code",
   "execution_count": 4,
   "metadata": {},
   "outputs": [],
   "source": [
    "import math"
   ]
  },
  {
   "cell_type": "code",
   "execution_count": 5,
   "metadata": {},
   "outputs": [],
   "source": [
    "def hamming_codes_integer_to_encoded_binary(value):\n",
    "    def hamming_sum_of_parity(length_of_d_bits):\n",
    "        if length_of_d_bits == 0:\n",
    "            return 0\n",
    "        elif length_of_d_bits < 3:\n",
    "            return length_of_d_bits + 1\n",
    "        else:\n",
    "            return max(math.ceil(math.log2(length_of_d_bits) + 1), math.ceil(math.log2(length_of_d_bits)))\n",
    "\n",
    "    data = list(bin(value)[2:])  # Convert value to binary string and then to a list of bits\n",
    "    sum_parity = hamming_sum_of_parity(len(data))\n",
    "    count = lambda arr, val: arr.count(val)\n",
    "\n",
    "    build = [\"x\", \"x\"] + data[:1]  # Initialize the \"pre-build\"\n",
    "    data = data[1:]  # Remove the first element which is already added to build\n",
    "\n",
    "    # Add new parity bits and the corresponding data bits (pre-building array)\n",
    "    for i in range(2, sum_parity):\n",
    "        build += [\"x\"] + data[:2**i - 1]\n",
    "        data = data[2**i - 1:]\n",
    "\n",
    "    # Get the index numbers where the parity bits \"x\" are placed\n",
    "    parity_bits = [i for i, e in enumerate(build) if e == \"x\"]\n",
    "\n",
    "    for index in parity_bits:\n",
    "        temp_count = index + 1\n",
    "        temp_array = []\n",
    "\n",
    "        # Only work with a copy of the build\n",
    "        temp_data = build.copy()\n",
    "\n",
    "        while index < len(temp_data):\n",
    "            temp = temp_data[index:index + temp_count * 2]\n",
    "            temp_array.extend(temp[:temp_count])\n",
    "            temp_data = temp_data[index + temp_count * 2:]\n",
    "\n",
    "        temp_array = temp_array[1:]  # Remove first bit, which is the parity one\n",
    "        build[index] = str(count(temp_array, \"1\") % 2)\n",
    "\n",
    "    # Set the \"overall\" parity\n",
    "    build.insert(0, str(count(build, \"1\") % 2))\n",
    "\n",
    "    return ''.join(build)"
   ]
  },
  {
   "cell_type": "code",
   "execution_count": 7,
   "metadata": {},
   "outputs": [
    {
     "data": {
      "text/plain": [
       "'0101101100111000111001011100111010110011101100000110110'"
      ]
     },
     "execution_count": 7,
     "metadata": {},
     "output_type": "execute_result"
    }
   ],
   "source": [
    "hamming_codes_integer_to_encoded_binary(100659970763803)"
   ]
  },
  {
   "cell_type": "code",
   "execution_count": null,
   "metadata": {},
   "outputs": [],
   "source": []
  }
 ],
 "metadata": {
  "kernelspec": {
   "display_name": "base",
   "language": "python",
   "name": "python3"
  },
  "language_info": {
   "codemirror_mode": {
    "name": "ipython",
    "version": 3
   },
   "file_extension": ".py",
   "mimetype": "text/x-python",
   "name": "python",
   "nbconvert_exporter": "python",
   "pygments_lexer": "ipython3",
   "version": "3.10.9"
  }
 },
 "nbformat": 4,
 "nbformat_minor": 2
}
