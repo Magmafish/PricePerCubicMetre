{
 "cells": [
  {
   "cell_type": "markdown",
   "metadata": {},
   "source": [
    "### HammingCodes: Encoded Binary to Integer\n",
    "You are attempting to solve a Coding Contract. You have 10 tries remaining, after which the contract will self-destruct.\n",
    "\n",
    "\n",
    "You are given the following encoded binary string:\n",
    "'0110000010010100'\n",
    "\n",
    "Treat it as an extended Hamming code with 1 'possible' error at a random index.\n",
    "Find the 'possible' wrong bit, fix it and extract the decimal value, which is hidden inside the string.\n",
    "\n",
    "Note: The length of the binary string is dynamic, but its encoding/decoding follows Hamming's 'rule'\n",
    "Note 2: Index 0 is an 'overall' parity bit. Watch the Hamming code video from 3Blue1Brown for more information\n",
    "Note 3: There's a ~55% chance for an altered Bit. So... MAYBE there is an altered Bit 😉\n",
    "Note: The endianness of the encoded decimal value is reversed in relation to the endianness of the Hamming code. Where the Hamming code is expressed as little-endian (LSB at index 0), the decimal value encoded in it is expressed as big-endian (MSB at index 0).\n",
    "Extra note for automation: return the decimal value as a string"
   ]
  },
  {
   "cell_type": "code",
   "execution_count": 4,
   "metadata": {},
   "outputs": [],
   "source": [
    "#does not work\n",
    "def hamming_code_to_integer(encoded):\n",
    "    def calculate_parity(bits, power):\n",
    "        \"\"\"Calculate the parity for a given power of 2\"\"\"\n",
    "        parity = 0\n",
    "        for i in range(len(bits)):\n",
    "            # Check if the bit is part of the subset for the given power of 2\n",
    "            if i & power == power:\n",
    "                parity ^= int(bits[i])\n",
    "        return parity\n",
    "\n",
    "    # Reverse the encoded string to work with it as little-endian\n",
    "    encoded = encoded[::-1]\n",
    "\n",
    "    # Initialize variables to store the error position and the corrected code\n",
    "    error_position = 0\n",
    "    corrected_code = list(encoded)\n",
    "\n",
    "    # Check parity for each power of 2\n",
    "    for power in [1, 2, 4, 8, 16, 32, 64, 128, 256]:\n",
    "        if power > len(encoded):\n",
    "            break\n",
    "        # Calculate and check parity\n",
    "        if calculate_parity(encoded, power) != int(encoded[power - 1]):\n",
    "            error_position += power\n",
    "\n",
    "    # Correct the error if found\n",
    "    if error_position != 0:\n",
    "        corrected_code[error_position - 1] = '1' if encoded[error_position - 1] == '0' else '0'\n",
    "\n",
    "    # Extract and convert the actual data bits to decimal\n",
    "    data_bits = ''\n",
    "    for i in range(1, len(corrected_code)):\n",
    "        if i & (i - 1) != 0:  # Skip parity bits\n",
    "            data_bits += corrected_code[i]\n",
    "\n",
    "    # Convert the binary data to decimal and reverse endianness\n",
    "    decimal_value = int(data_bits[::-1], 2)\n",
    "\n",
    "    return str(decimal_value)"
   ]
  },
  {
   "cell_type": "code",
   "execution_count": 5,
   "metadata": {},
   "outputs": [
    {
     "ename": "IndexError",
     "evalue": "string index out of range",
     "output_type": "error",
     "traceback": [
      "\u001b[0;31m---------------------------------------------------------------------------\u001b[0m",
      "\u001b[0;31mIndexError\u001b[0m                                Traceback (most recent call last)",
      "\u001b[1;32m/home/mike/projects/PricePerCubicMetre/hammingcode_to_integer.ipynb Cell 3\u001b[0m line \u001b[0;36m1\n\u001b[0;32m----> <a href='vscode-notebook-cell://wsl%2Bubuntu-20.04/home/mike/projects/PricePerCubicMetre/hammingcode_to_integer.ipynb#W2sdnNjb2RlLXJlbW90ZQ%3D%3D?line=0'>1</a>\u001b[0m hamming_code_to_integer(\u001b[39m'\u001b[39;49m\u001b[39m11001001110011111011100011111000\u001b[39;49m\u001b[39m'\u001b[39;49m)\n",
      "\u001b[1;32m/home/mike/projects/PricePerCubicMetre/hammingcode_to_integer.ipynb Cell 3\u001b[0m line \u001b[0;36m2\n\u001b[1;32m     <a href='vscode-notebook-cell://wsl%2Bubuntu-20.04/home/mike/projects/PricePerCubicMetre/hammingcode_to_integer.ipynb#W2sdnNjb2RlLXJlbW90ZQ%3D%3D?line=26'>27</a>\u001b[0m \u001b[39m# Correct the error if found\u001b[39;00m\n\u001b[1;32m     <a href='vscode-notebook-cell://wsl%2Bubuntu-20.04/home/mike/projects/PricePerCubicMetre/hammingcode_to_integer.ipynb#W2sdnNjb2RlLXJlbW90ZQ%3D%3D?line=27'>28</a>\u001b[0m \u001b[39mif\u001b[39;00m error_position \u001b[39m!=\u001b[39m \u001b[39m0\u001b[39m:\n\u001b[0;32m---> <a href='vscode-notebook-cell://wsl%2Bubuntu-20.04/home/mike/projects/PricePerCubicMetre/hammingcode_to_integer.ipynb#W2sdnNjb2RlLXJlbW90ZQ%3D%3D?line=28'>29</a>\u001b[0m     corrected_code[error_position \u001b[39m-\u001b[39m \u001b[39m1\u001b[39m] \u001b[39m=\u001b[39m \u001b[39m'\u001b[39m\u001b[39m1\u001b[39m\u001b[39m'\u001b[39m \u001b[39mif\u001b[39;00m encoded[error_position \u001b[39m-\u001b[39;49m \u001b[39m1\u001b[39;49m] \u001b[39m==\u001b[39m \u001b[39m'\u001b[39m\u001b[39m0\u001b[39m\u001b[39m'\u001b[39m \u001b[39melse\u001b[39;00m \u001b[39m'\u001b[39m\u001b[39m0\u001b[39m\u001b[39m'\u001b[39m\n\u001b[1;32m     <a href='vscode-notebook-cell://wsl%2Bubuntu-20.04/home/mike/projects/PricePerCubicMetre/hammingcode_to_integer.ipynb#W2sdnNjb2RlLXJlbW90ZQ%3D%3D?line=30'>31</a>\u001b[0m \u001b[39m# Extract and convert the actual data bits to decimal\u001b[39;00m\n\u001b[1;32m     <a href='vscode-notebook-cell://wsl%2Bubuntu-20.04/home/mike/projects/PricePerCubicMetre/hammingcode_to_integer.ipynb#W2sdnNjb2RlLXJlbW90ZQ%3D%3D?line=31'>32</a>\u001b[0m data_bits \u001b[39m=\u001b[39m \u001b[39m'\u001b[39m\u001b[39m'\u001b[39m\n",
      "\u001b[0;31mIndexError\u001b[0m: string index out of range"
     ]
    }
   ],
   "source": [
    "hamming_code_to_integer('11001001110011111011100011111000')"
   ]
  },
  {
   "cell_type": "code",
   "execution_count": 1,
   "metadata": {},
   "outputs": [],
   "source": [
    "def decode_hamming_code(encoded_str):\n",
    "    # Convert the string to a list of integers (bits)\n",
    "    encoded = list(map(int, list(encoded_str)))\n",
    "\n",
    "    # Calculate the number of parity bits - n = 2^r - 1 where n is the length of the encoded string\n",
    "    n = len(encoded)\n",
    "    r = 0\n",
    "    while (2 ** r) < n + 1:\n",
    "        r += 1\n",
    "\n",
    "    # Function to calculate parity for a given position\n",
    "    def calculate_parity(pos, encoded):\n",
    "        skip = 2 ** pos\n",
    "        parity = 0\n",
    "        for i in range(skip - 1, len(encoded), 2 * skip):\n",
    "            parity ^= sum(encoded[i:i + skip])\n",
    "        return parity\n",
    "\n",
    "    # Calculate parity for each parity bit and overall parity\n",
    "    error_pos = 0\n",
    "    for i in range(r):\n",
    "        if calculate_parity(i, encoded) != encoded[2 ** i - 1]:\n",
    "            error_pos += 2 ** i\n",
    "\n",
    "    # Correct the error if error_pos is not zero\n",
    "    if error_pos != 0:\n",
    "        encoded[error_pos - 1] ^= 1\n",
    "\n",
    "    # Remove parity bits to extract the original data\n",
    "    data = [encoded[i - 1] for i in range(1, len(encoded) + 1) if not (i & (i - 1)) == 0]\n",
    "\n",
    "    # Convert the binary data to a decimal value\n",
    "    # Note: The endianness of the encoded decimal value is reversed\n",
    "    data.reverse()\n",
    "    decimal_value = int(''.join(map(str, data)), 2)\n",
    "\n",
    "    return str(decimal_value)"
   ]
  },
  {
   "cell_type": "code",
   "execution_count": 2,
   "metadata": {},
   "outputs": [
    {
     "data": {
      "text/plain": [
       "'142496674613299219'"
      ]
     },
     "execution_count": 2,
     "metadata": {},
     "output_type": "execute_result"
    }
   ],
   "source": [
    "encoded_binary = '0010100010000000100000000000000001111000011111111111000101111011'\n",
    "decode_hamming_code(encoded_binary)"
   ]
  },
  {
   "cell_type": "code",
   "execution_count": 3,
   "metadata": {},
   "outputs": [],
   "source": [
    "import numpy as np"
   ]
  },
  {
   "cell_type": "code",
   "execution_count": null,
   "metadata": {},
   "outputs": [],
   "source": []
  }
 ],
 "metadata": {
  "kernelspec": {
   "display_name": "base",
   "language": "python",
   "name": "python3"
  },
  "language_info": {
   "codemirror_mode": {
    "name": "ipython",
    "version": 3
   },
   "file_extension": ".py",
   "mimetype": "text/x-python",
   "name": "python",
   "nbconvert_exporter": "python",
   "pygments_lexer": "ipython3",
   "version": "3.10.9"
  }
 },
 "nbformat": 4,
 "nbformat_minor": 2
}
