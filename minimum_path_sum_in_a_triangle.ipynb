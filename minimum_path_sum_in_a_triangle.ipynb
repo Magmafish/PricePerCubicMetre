{
 "cells": [
  {
   "cell_type": "markdown",
   "metadata": {},
   "source": [
    "### Minimum Path Sum in a Triangle\n",
    "You are attempting to solve a Coding Contract. You have 10 tries remaining, after which the contract will self-destruct.\n",
    "\n",
    "\n",
    "Given a triangle, find the minimum path sum from top to bottom. In each step of the path, you may only move to adjacent numbers in the row below. The triangle is represented as a 2D array of numbers:\n",
    "\n",
    "[\n",
    "\n",
    "            [7],\n",
    "           [2,7],\n",
    "          [6,2,7],\n",
    "         [6,9,7,4],\n",
    "        [6,7,8,9,9],\n",
    "       [4,2,2,5,1,4],\n",
    "      [4,2,1,2,5,2,5],\n",
    "     [7,7,7,3,5,9,2,8],\n",
    "    [8,4,8,9,3,4,5,2,1]\n",
    "    \n",
    "]\n",
    "\n",
    "Example: If you are given the following triangle:\n",
    "\n",
    "[\n",
    "\n",
    "       [2],\n",
    "      [3,4],\n",
    "     [6,5,7],\n",
    "    [4,1,8,3]\n",
    "  \n",
    "]\n",
    "\n",
    "The minimum path sum is 11 (2 -> 3 -> 5 -> 1)."
   ]
  },
  {
   "cell_type": "code",
   "execution_count": 3,
   "metadata": {},
   "outputs": [],
   "source": [
    "def minimumTotal(triangle):\n",
    "    # Starting from the second to last row, moving upwards\n",
    "    for row in range(len(triangle) - 2, -1, -1):\n",
    "        for col in range(len(triangle[row])):\n",
    "            # For each element, add the minimum of the two adjacent elements from the row below\n",
    "            triangle[row][col] += min(triangle[row + 1][col], triangle[row + 1][col + 1])\n",
    "\n",
    "    # The top element of the triangle will hold the minimum path sum\n",
    "    return triangle[0][0]"
   ]
  },
  {
   "cell_type": "code",
   "execution_count": 4,
   "metadata": {},
   "outputs": [],
   "source": [
    "triangle = [\n",
    "    [7],\n",
    "    [2, 7],\n",
    "    [6, 2, 7],\n",
    "    [6, 9, 7, 4],\n",
    "    [6, 7, 8, 9, 9],\n",
    "    [4, 2, 2, 5, 1, 4],\n",
    "    [4, 2, 1, 2, 5, 2, 5],\n",
    "    [7, 7, 7, 3, 5, 9, 2, 8],\n",
    "    [8, 4, 8, 9, 3, 4, 5, 2, 1]\n",
    "]"
   ]
  },
  {
   "cell_type": "code",
   "execution_count": 5,
   "metadata": {},
   "outputs": [
    {
     "data": {
      "text/plain": [
       "34"
      ]
     },
     "execution_count": 5,
     "metadata": {},
     "output_type": "execute_result"
    }
   ],
   "source": [
    "minimumTotal(triangle)"
   ]
  },
  {
   "cell_type": "code",
   "execution_count": 6,
   "metadata": {},
   "outputs": [],
   "source": [
    "triangle = [\n",
    "    [9],\n",
    "   [5,7],\n",
    "  [6,4,2]\n",
    "]"
   ]
  },
  {
   "cell_type": "code",
   "execution_count": 7,
   "metadata": {},
   "outputs": [
    {
     "data": {
      "text/plain": [
       "18"
      ]
     },
     "execution_count": 7,
     "metadata": {},
     "output_type": "execute_result"
    }
   ],
   "source": [
    "minimumTotal(triangle)"
   ]
  },
  {
   "cell_type": "code",
   "execution_count": null,
   "metadata": {},
   "outputs": [],
   "source": []
  }
 ],
 "metadata": {
  "kernelspec": {
   "display_name": "base",
   "language": "python",
   "name": "python3"
  },
  "language_info": {
   "codemirror_mode": {
    "name": "ipython",
    "version": 3
   },
   "file_extension": ".py",
   "mimetype": "text/x-python",
   "name": "python",
   "nbconvert_exporter": "python",
   "pygments_lexer": "ipython3",
   "version": "3.10.9"
  }
 },
 "nbformat": 4,
 "nbformat_minor": 2
}
