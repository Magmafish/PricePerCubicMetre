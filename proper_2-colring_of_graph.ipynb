{
 "cells": [
  {
   "cell_type": "markdown",
   "metadata": {},
   "source": [
    "### Proper 2-Coloring of a Graph\n",
    "You are attempting to solve a Coding Contract. You have 3 tries remaining, after which the contract will self-destruct.\n",
    "\n",
    "\n",
    "You are given the following data, representing a graph:\n",
    "[10,[[2,8],[3,8],[3,6],[1,3],[2,4],[2,6],[3,7],[3,4],[2,7],[3,9],[3,4],[0,4],[0,1]]]\n",
    "Note that \"graph\", as used here, refers to the field of graph theory, and has no relation to statistics or plotting. The first element of the data represents the number of vertices in the graph. Each vertex is a unique number between 0 and 9. The next element of the data represents the edges of the graph. Two vertices u,v in a graph are said to be adjacent if there exists an edge [u,v]. Note that an edge [u,v] is the same as an edge [v,u], as order does not matter. You must construct a 2-coloring of the graph, meaning that you have to assign each vertex in the graph a \"color\", either 0 or 1, such that no two adjacent vertices have the same color. Submit your answer in the form of an array, where element i represents the color of vertex i. If it is impossible to construct a 2-coloring of the given graph, instead submit an empty array.\n",
    "\n",
    "Examples:\n",
    "\n",
    "    Input: [4, [[0, 2], [0, 3], [1, 2], [1, 3]]]\n",
    "    Output: [0, 0, 1, 1]\n",
    "\n",
    "    Input: [3, [[0, 1], [0, 2], [1, 2]]]\n",
    "    Output: []\n",
    "\n"
   ]
  },
  {
   "cell_type": "code",
   "execution_count": 2,
   "metadata": {},
   "outputs": [],
   "source": [
    "from collections import defaultdict\n",
    "\n",
    "def is_bipartite(graph, start, color):\n",
    "    color[start] = 0\n",
    "    queue = [start]\n",
    "    while queue:\n",
    "        u = queue.pop(0)\n",
    "        for v in graph[u]:\n",
    "            if color[v] == -1:\n",
    "                color[v] = 1 - color[u]\n",
    "                queue.append(v)\n",
    "            elif color[v] == color[u]:\n",
    "                return False\n",
    "    return True\n",
    "\n",
    "def two_coloring(num_vertices, edges):\n",
    "    # Create a graph from edges\n",
    "    graph = defaultdict(list)\n",
    "    for u, v in edges:\n",
    "        graph[u].append(v)\n",
    "        graph[v].append(u)\n",
    "\n",
    "    # Initialize all vertices as uncolored\n",
    "    color = [-1] * num_vertices\n",
    "\n",
    "    # Check if the graph is bipartite\n",
    "    for i in range(num_vertices):\n",
    "        if color[i] == -1:\n",
    "            if not is_bipartite(graph, i, color):\n",
    "                return []\n",
    "\n",
    "    return color"
   ]
  },
  {
   "cell_type": "code",
   "execution_count": 3,
   "metadata": {},
   "outputs": [
    {
     "data": {
      "text/plain": [
       "[0, 1, 0, 0, 1, 0, 1, 1, 1, 1]"
      ]
     },
     "execution_count": 3,
     "metadata": {},
     "output_type": "execute_result"
    }
   ],
   "source": [
    "graph_data = [10, [[2, 8], [3, 8], [3, 6], [1, 3], [2, 4], [2, 6], [3, 7], [3, 4], [2, 7], [3, 9], [3, 4], [0, 4], [0, 1]]]\n",
    "two_coloring(*graph_data)"
   ]
  },
  {
   "cell_type": "code",
   "execution_count": null,
   "metadata": {},
   "outputs": [],
   "source": []
  }
 ],
 "metadata": {
  "kernelspec": {
   "display_name": "base",
   "language": "python",
   "name": "python3"
  },
  "language_info": {
   "codemirror_mode": {
    "name": "ipython",
    "version": 3
   },
   "file_extension": ".py",
   "mimetype": "text/x-python",
   "name": "python",
   "nbconvert_exporter": "python",
   "pygments_lexer": "ipython3",
   "version": "3.10.9"
  }
 },
 "nbformat": 4,
 "nbformat_minor": 2
}
