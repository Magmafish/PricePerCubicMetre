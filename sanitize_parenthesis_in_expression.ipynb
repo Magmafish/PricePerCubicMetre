{
 "cells": [
  {
   "cell_type": "markdown",
   "metadata": {},
   "source": [
    "### Sanitize Parentheses in Expression\n",
    "You are attempting to solve a Coding Contract. You have 10 tries remaining, after which the contract will self-destruct.\n",
    "\n",
    "\n",
    "Given the following string:\n",
    "\n",
    "    )(a(()))(a)a)aa(\n",
    "\n",
    "remove the minimum number of invalid parentheses in order to validate the string. If there are multiple minimal ways to validate the string, provide all of the possible results. The answer should be provided as an array of strings. If it is impossible to validate the string the result should be an array with only an empty string.\n",
    "\n",
    "IMPORTANT: The string may contain letters, not just parentheses. Examples:\n",
    "\n",
    "    \"()())()\" -> [\"()()()\", \"(())()\"]\n",
    "    \"(a)())()\" -> [\"(a)()()\", \"(a())()\"]\n",
    "    \")(\" -> [\"\"]"
   ]
  },
  {
   "cell_type": "code",
   "execution_count": 2,
   "metadata": {},
   "outputs": [],
   "source": [
    "def sanitize_expression(s):\n",
    "    # Function to recursively remove invalid parentheses\n",
    "    def remove_invalid_parentheses(expr, index, left_count, right_count, left_rem, right_rem, path, result):\n",
    "        if index == len(expr):\n",
    "            if left_rem == 0 and right_rem == 0:\n",
    "                result.add(''.join(path))\n",
    "        else:\n",
    "            if (expr[index] == '(' and left_rem > 0) or (expr[index] == ')' and right_rem > 0):\n",
    "                # Recur by removing the current parenthesis\n",
    "                new_left_rem = left_rem - 1 if expr[index] == '(' else left_rem\n",
    "                new_right_rem = right_rem - 1 if expr[index] == ')' else right_rem\n",
    "                remove_invalid_parentheses(expr, index + 1, left_count, right_count, new_left_rem, new_right_rem, path, result)\n",
    "\n",
    "            path.append(expr[index])\n",
    "\n",
    "            if expr[index] != '(' and expr[index] != ')':\n",
    "                # If it's not a parenthesis, just recur\n",
    "                remove_invalid_parentheses(expr, index + 1, left_count, right_count, left_rem, right_rem, path, result)\n",
    "            elif expr[index] == '(':\n",
    "                # If it's an opening parenthesis, increase the count and recur\n",
    "                remove_invalid_parentheses(expr, index + 1, left_count + 1, right_count, left_rem, right_rem, path, result)\n",
    "            elif right_count < left_count:\n",
    "                # If it's a closing parenthesis, increase the count and recur\n",
    "                remove_invalid_parentheses(expr, index + 1, left_count, right_count + 1, left_rem, right_rem, path, result)\n",
    "\n",
    "            # Backtrack\n",
    "            path.pop()\n",
    "\n",
    "    # Count the number of misplaced parentheses\n",
    "    left_rem, right_rem = 0, 0\n",
    "    for char in s:\n",
    "        if char == '(':\n",
    "            left_rem += 1\n",
    "        elif char == ')':\n",
    "            if left_rem > 0:\n",
    "                left_rem -= 1\n",
    "            else:\n",
    "                right_rem += 1\n",
    "\n",
    "    result = set()\n",
    "    remove_invalid_parentheses(s, 0, 0, 0, left_rem, right_rem, [], result)\n",
    "\n",
    "    # If no result, return an array with only an empty string\n",
    "    return list(result) if result else [\"\"]"
   ]
  },
  {
   "cell_type": "code",
   "execution_count": 3,
   "metadata": {},
   "outputs": [
    {
     "data": {
      "text/plain": [
       "['(a(()))(a)aaa', '(a(())(a)a)aa', '(a(()))(aa)aa']"
      ]
     },
     "execution_count": 3,
     "metadata": {},
     "output_type": "execute_result"
    }
   ],
   "source": [
    "sanitize_expression(\")(a(()))(a)a)aa(\")"
   ]
  },
  {
   "cell_type": "code",
   "execution_count": 5,
   "metadata": {},
   "outputs": [
    {
     "data": {
      "text/plain": [
       "['(())()aa']"
      ]
     },
     "execution_count": 5,
     "metadata": {},
     "output_type": "execute_result"
    }
   ],
   "source": [
    "sanitize_expression(\"(()))()aa\")"
   ]
  },
  {
   "cell_type": "code",
   "execution_count": null,
   "metadata": {},
   "outputs": [],
   "source": []
  }
 ],
 "metadata": {
  "kernelspec": {
   "display_name": "base",
   "language": "python",
   "name": "python3"
  },
  "language_info": {
   "codemirror_mode": {
    "name": "ipython",
    "version": 3
   },
   "file_extension": ".py",
   "mimetype": "text/x-python",
   "name": "python",
   "nbconvert_exporter": "python",
   "pygments_lexer": "ipython3",
   "version": "3.10.9"
  }
 },
 "nbformat": 4,
 "nbformat_minor": 2
}
