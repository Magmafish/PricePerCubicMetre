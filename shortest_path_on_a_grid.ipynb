{
 "cells": [
  {
   "cell_type": "markdown",
   "metadata": {},
   "source": [
    "### Shortest Path in a Grid\n",
    "You are attempting to solve a Coding Contract. You have 10 tries remaining, after which the contract will self-destruct.\n",
    "\n",
    "\n",
    "You are located in the top-left corner of the following grid:\n",
    "\n",
    "    [[0,0,0,0,0,0,1,0,0,1,0],\n",
    "     [1,0,1,0,0,0,0,1,0,1,0],\n",
    "     [1,0,0,0,0,1,1,0,0,0,0],\n",
    "     [0,0,0,0,1,0,1,0,0,0,0],\n",
    "     [0,0,0,0,0,0,0,0,0,0,0],\n",
    "     [0,1,0,0,1,0,1,0,0,0,0],\n",
    "     [0,0,1,0,0,1,0,0,0,0,0],\n",
    "     [0,0,0,0,0,0,0,0,0,0,0],\n",
    "     [0,1,0,0,0,1,0,0,0,0,0]]\n",
    "\n",
    "You are trying to find the shortest path to the bottom-right corner of the grid, but there are obstacles on the grid that you cannot move onto. These obstacles are denoted by '1', while empty spaces are denoted by 0.\n",
    "\n",
    "Determine the shortest path from start to finish, if one exists. The answer should be given as a string of UDLR characters, indicating the moves along the path\n",
    "\n",
    "NOTE: If there are multiple equally short paths, any of them is accepted as answer. If there is no path, the answer should be an empty string.\n",
    "NOTE: The data returned for this contract is an 2D array of numbers representing the grid.\n",
    "\n",
    "Examples:\n",
    "\n",
    "    [[0,1,0,0,0],\n",
    "     [0,0,0,1,0]]\n",
    "\n",
    "Answer: 'DRRURRD'\n",
    "\n",
    "    [[0,1],\n",
    "     [1,0]]\n",
    "\n",
    "Answer: ''"
   ]
  },
  {
   "cell_type": "code",
   "execution_count": 1,
   "metadata": {},
   "outputs": [],
   "source": [
    "from collections import deque\n",
    "\n",
    "def shortestPathInGrid(grid):\n",
    "    # Define the moves: right (R), down (D), left (L), up (U)\n",
    "    moves = [(0, 1, 'R'), (1, 0, 'D'), (0, -1, 'L'), (-1, 0, 'U')]\n",
    "\n",
    "    rows, cols = len(grid), len(grid[0])\n",
    "    visited = [[False] * cols for _ in range(rows)]\n",
    "\n",
    "    # Queue for BFS, initialized with the starting position and the path\n",
    "    queue = deque([(0, 0, \"\")])\n",
    "\n",
    "    while queue:\n",
    "        x, y, path = queue.popleft()\n",
    "\n",
    "        # Check if the bottom-right corner is reached\n",
    "        if x == rows - 1 and y == cols - 1:\n",
    "            return path\n",
    "\n",
    "        # Explore the neighbors\n",
    "        for dx, dy, move in moves:\n",
    "            nx, ny = x + dx, y + dy\n",
    "\n",
    "            # Check if the new position is inside the grid and not an obstacle or visited\n",
    "            if 0 <= nx < rows and 0 <= ny < cols and grid[nx][ny] == 0 and not visited[nx][ny]:\n",
    "                visited[nx][ny] = True\n",
    "                queue.append((nx, ny, path + move))\n",
    "\n",
    "    # Return empty string if no path is found\n",
    "    return \"\""
   ]
  },
  {
   "cell_type": "code",
   "execution_count": 2,
   "metadata": {},
   "outputs": [],
   "source": [
    "grid =  [[0,1,0,0,0,1,0,1,1,1,0,0],\n",
    "   [1,0,0,0,0,0,0,1,1,1,0,1],\n",
    "   [0,0,0,1,0,0,0,0,0,1,1,0],\n",
    "   [0,0,0,0,0,1,0,0,0,0,1,0],\n",
    "   [0,0,0,1,0,0,0,1,1,0,0,0],\n",
    "   [0,0,0,1,0,1,0,1,0,0,0,0],\n",
    "   [0,0,1,1,0,0,0,0,0,0,0,0],\n",
    "   [0,0,1,1,0,1,1,1,0,1,0,1],\n",
    "   [0,0,0,0,0,0,0,0,0,0,1,0],\n",
    "   [0,1,0,1,1,0,0,0,1,0,0,1],\n",
    "   [0,0,1,0,0,0,0,0,0,0,0,0]]"
   ]
  },
  {
   "cell_type": "code",
   "execution_count": 3,
   "metadata": {},
   "outputs": [
    {
     "data": {
      "text/plain": [
       "''"
      ]
     },
     "execution_count": 3,
     "metadata": {},
     "output_type": "execute_result"
    }
   ],
   "source": [
    "shortestPathInGrid(grid)"
   ]
  }
 ],
 "metadata": {
  "kernelspec": {
   "display_name": "base",
   "language": "python",
   "name": "python3"
  },
  "language_info": {
   "codemirror_mode": {
    "name": "ipython",
    "version": 3
   },
   "file_extension": ".py",
   "mimetype": "text/x-python",
   "name": "python",
   "nbconvert_exporter": "python",
   "pygments_lexer": "ipython3",
   "version": "3.10.9"
  }
 },
 "nbformat": 4,
 "nbformat_minor": 2
}
