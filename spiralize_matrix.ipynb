{
 "cells": [
  {
   "cell_type": "code",
   "execution_count": null,
   "metadata": {},
   "outputs": [],
   "source": []
  },
  {
   "cell_type": "code",
   "execution_count": 7,
   "metadata": {},
   "outputs": [],
   "source": [
    "def spiralize_matrix(matrix):\n",
    "    result = []\n",
    "    while matrix:\n",
    "        # Add the first row to result\n",
    "        result.extend(matrix.pop(0))\n",
    "\n",
    "        # Add the last element of each remaining row\n",
    "        if matrix and matrix[0]:\n",
    "            for row in matrix:\n",
    "                result.append(row.pop())\n",
    "\n",
    "        # Add the last row in reverse order\n",
    "        if matrix:\n",
    "            result.extend(matrix.pop()[::-1])\n",
    "\n",
    "        # Add the first element of each remaining row in reverse order\n",
    "        if matrix and matrix[0]:\n",
    "            for row in matrix[::-1]:\n",
    "                result.append(row.pop(0))\n",
    "\n",
    "    return result"
   ]
  },
  {
   "cell_type": "code",
   "execution_count": 8,
   "metadata": {},
   "outputs": [],
   "source": [
    "matrix = [\n",
    "    [46,46,47,18,33, 1],\n",
    "    [ 2,35,33,42,47,20],\n",
    "    [ 7,46,49,27,40,31],\n",
    "    [31,27, 3,41,15,13],\n",
    "    [ 2, 9,27,19,49,13],\n",
    "    [35,42,41,14, 7, 1],\n",
    "    [47,19,47,50,23,47],\n",
    "    [40,25,48,17,39,27],\n",
    "    [38,23,39,12, 3,39],\n",
    "    [ 9,43,23,37, 2,24],\n",
    "    [39,48,31,41,14, 2]\n",
    "]"
   ]
  },
  {
   "cell_type": "code",
   "execution_count": 9,
   "metadata": {},
   "outputs": [
    {
     "data": {
      "text/plain": [
       "[46,\n",
       " 46,\n",
       " 47,\n",
       " 18,\n",
       " 33,\n",
       " 1,\n",
       " 20,\n",
       " 31,\n",
       " 13,\n",
       " 13,\n",
       " 1,\n",
       " 47,\n",
       " 27,\n",
       " 39,\n",
       " 24,\n",
       " 2,\n",
       " 14,\n",
       " 41,\n",
       " 31,\n",
       " 48,\n",
       " 39,\n",
       " 9,\n",
       " 38,\n",
       " 40,\n",
       " 47,\n",
       " 35,\n",
       " 2,\n",
       " 31,\n",
       " 7,\n",
       " 2,\n",
       " 35,\n",
       " 33,\n",
       " 42,\n",
       " 47,\n",
       " 40,\n",
       " 15,\n",
       " 49,\n",
       " 7,\n",
       " 23,\n",
       " 39,\n",
       " 3,\n",
       " 2,\n",
       " 37,\n",
       " 23,\n",
       " 43,\n",
       " 23,\n",
       " 25,\n",
       " 19,\n",
       " 42,\n",
       " 9,\n",
       " 27,\n",
       " 46,\n",
       " 49,\n",
       " 27,\n",
       " 41,\n",
       " 19,\n",
       " 14,\n",
       " 50,\n",
       " 17,\n",
       " 12,\n",
       " 39,\n",
       " 48,\n",
       " 47,\n",
       " 41,\n",
       " 27,\n",
       " 3]"
      ]
     },
     "execution_count": 9,
     "metadata": {},
     "output_type": "execute_result"
    }
   ],
   "source": [
    "spiral_order = spiralize_matrix(matrix)\n",
    "spiral_order"
   ]
  },
  {
   "cell_type": "code",
   "execution_count": null,
   "metadata": {},
   "outputs": [],
   "source": []
  }
 ],
 "metadata": {
  "kernelspec": {
   "display_name": "base",
   "language": "python",
   "name": "python3"
  },
  "language_info": {
   "codemirror_mode": {
    "name": "ipython",
    "version": 3
   },
   "file_extension": ".py",
   "mimetype": "text/x-python",
   "name": "python",
   "nbconvert_exporter": "python",
   "pygments_lexer": "ipython3",
   "version": "3.10.9"
  }
 },
 "nbformat": 4,
 "nbformat_minor": 2
}
