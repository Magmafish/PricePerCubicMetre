{
 "cells": [
  {
   "cell_type": "markdown",
   "metadata": {},
   "source": [
    "### Spiralize Matrix\n",
    "You are attempting to solve a Coding Contract. You have 10 tries remaining, after which the contract will self-destruct.\n",
    "\n",
    "\n",
    "Given the following array of arrays of numbers representing a 2D matrix, return the elements of the matrix as an array in spiral order:\n",
    "\n",
    "    [\n",
    "        [43,39,49]\n",
    "        [31,31,20]\n",
    "        [10, 4,41]\n",
    "        [ 3,19,30]\n",
    "        [18,20,37]\n",
    "        [ 5,22,49]\n",
    "        [ 7,24,10]\n",
    "    ]\n",
    "\n",
    "Here is an example of what spiral order should be:\n",
    "\n",
    "    [\n",
    "        [1, 2, 3]\n",
    "        [4, 5, 6]\n",
    "        [7, 8, 9]\n",
    "    ]\n",
    "\n",
    "Answer: [1, 2, 3, 6, 9, 8 ,7, 4, 5]\n",
    "\n",
    "Note that the matrix will not always be square:\n",
    "\n",
    "    [\n",
    "        [1,  2,  3,  4]\n",
    "        [5,  6,  7,  8]\n",
    "        [9, 10, 11, 12]\n",
    "    ]\n",
    "\n",
    "Answer: [1, 2, 3, 4, 8, 12, 11, 10, 9, 5, 6, 7]"
   ]
  },
  {
   "cell_type": "code",
   "execution_count": 5,
   "metadata": {},
   "outputs": [],
   "source": [
    "def spiralize_matrix(matrix):\n",
    "    result = []\n",
    "    while matrix:\n",
    "        # Add the first row to result\n",
    "        result.extend(matrix.pop(0))\n",
    "\n",
    "        # Add the last element of each remaining row\n",
    "        if matrix and matrix[0]:\n",
    "            for row in matrix:\n",
    "                result.append(row.pop())\n",
    "\n",
    "        # Add the last row in reverse order\n",
    "        if matrix:\n",
    "            result.extend(matrix.pop()[::-1])\n",
    "\n",
    "        # Add the first element of each remaining row in reverse order\n",
    "        if matrix and matrix[0]:\n",
    "            for row in matrix[::-1]:\n",
    "                result.append(row.pop(0))\n",
    "\n",
    "    return result"
   ]
  },
  {
   "cell_type": "code",
   "execution_count": 6,
   "metadata": {},
   "outputs": [],
   "source": [
    "matrix = [\n",
    "        [43,39,49],\n",
    "        [31,31,20],\n",
    "        [10,4,41],\n",
    "        [3,19,30],\n",
    "        [18,20,37],\n",
    "        [5,22,49],\n",
    "        [7,24,10]\n",
    "    ]"
   ]
  },
  {
   "cell_type": "code",
   "execution_count": 7,
   "metadata": {},
   "outputs": [
    {
     "data": {
      "text/plain": [
       "[43,\n",
       " 39,\n",
       " 49,\n",
       " 20,\n",
       " 41,\n",
       " 30,\n",
       " 37,\n",
       " 49,\n",
       " 10,\n",
       " 24,\n",
       " 7,\n",
       " 5,\n",
       " 18,\n",
       " 3,\n",
       " 10,\n",
       " 31,\n",
       " 31,\n",
       " 4,\n",
       " 19,\n",
       " 20,\n",
       " 22]"
      ]
     },
     "execution_count": 7,
     "metadata": {},
     "output_type": "execute_result"
    }
   ],
   "source": [
    "spiralize_matrix(matrix)"
   ]
  },
  {
   "cell_type": "code",
   "execution_count": null,
   "metadata": {},
   "outputs": [],
   "source": []
  }
 ],
 "metadata": {
  "kernelspec": {
   "display_name": "base",
   "language": "python",
   "name": "python3"
  },
  "language_info": {
   "codemirror_mode": {
    "name": "ipython",
    "version": 3
   },
   "file_extension": ".py",
   "mimetype": "text/x-python",
   "name": "python",
   "nbconvert_exporter": "python",
   "pygments_lexer": "ipython3",
   "version": "3.10.9"
  }
 },
 "nbformat": 4,
 "nbformat_minor": 2
}
