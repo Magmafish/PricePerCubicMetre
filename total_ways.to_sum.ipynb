{
 "cells": [
  {
   "cell_type": "markdown",
   "metadata": {},
   "source": [
    "### Total Ways to Sum\n",
    "You are attempting to solve a Coding Contract. You have 10 tries remaining, after which the contract will self-destruct.\n",
    "\n",
    "\n",
    "It is possible write four as a sum in exactly four different ways:\n",
    "\n",
    "    3 + 1\n",
    "    2 + 2\n",
    "    2 + 1 + 1\n",
    "    1 + 1 + 1 + 1\n",
    "\n",
    "How many different distinct ways can the number 56 be written as a sum of at least two positive integers?"
   ]
  },
  {
   "cell_type": "code",
   "execution_count": 2,
   "metadata": {},
   "outputs": [],
   "source": [
    "def count_ways_to_sum(total):\n",
    "    # Initialize a list to store the number of ways to sum up to each number up to 'total'\n",
    "    ways = [0] * (total + 1)\n",
    "    ways[0] = 1  # There's 1 way to sum up to 0\n",
    "\n",
    "    # Iterate through each number from 1 to total - 1\n",
    "    for i in range(1, total):\n",
    "        # Update the ways to sum up to j, where j ranges from i to total\n",
    "        for j in range(i, total + 1):\n",
    "            ways[j] += ways[j - i]\n",
    "\n",
    "    # The answer is the number of ways to sum up to 'total'\n",
    "    return ways[total]"
   ]
  },
  {
   "cell_type": "code",
   "execution_count": 3,
   "metadata": {},
   "outputs": [
    {
     "data": {
      "text/plain": [
       "966466"
      ]
     },
     "execution_count": 3,
     "metadata": {},
     "output_type": "execute_result"
    }
   ],
   "source": [
    "count_ways_to_sum(60)"
   ]
  },
  {
   "cell_type": "code",
   "execution_count": null,
   "metadata": {},
   "outputs": [],
   "source": []
  }
 ],
 "metadata": {
  "kernelspec": {
   "display_name": "base",
   "language": "python",
   "name": "python3"
  },
  "language_info": {
   "codemirror_mode": {
    "name": "ipython",
    "version": 3
   },
   "file_extension": ".py",
   "mimetype": "text/x-python",
   "name": "python",
   "nbconvert_exporter": "python",
   "pygments_lexer": "ipython3",
   "version": "3.10.9"
  }
 },
 "nbformat": 4,
 "nbformat_minor": 2
}
