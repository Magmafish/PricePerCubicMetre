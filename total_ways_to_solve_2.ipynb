{
 "cells": [
  {
   "cell_type": "markdown",
   "metadata": {},
   "source": [
    "### Total Ways to Sum II\n",
    "You are attempting to solve a Coding Contract. You have 10 tries remaining, after which the contract will self-destruct.\n",
    "\n",
    "\n",
    "How many different distinct ways can the number 194 be written as a sum of integers contained in the set:\n",
    "\n",
    "    [2,3,4,5,6,7,8,9,11]?\n",
    "\n",
    "You may use each integer in the set zero or more times."
   ]
  },
  {
   "cell_type": "code",
   "execution_count": 1,
   "metadata": {},
   "outputs": [],
   "source": [
    "def count_ways_to_sum(total, numbers):\n",
    "    # Initialize a list to store the number of ways to sum up to each number up to total\n",
    "    ways = [0] * (total + 1)\n",
    "    ways[0] = 1  # There is one way to sum up to 0, which is using no numbers\n",
    "\n",
    "    # For each number, update the ways to sum up to each total\n",
    "    for num in numbers:\n",
    "        for i in range(num, total + 1):\n",
    "            ways[i] += ways[i - num]\n",
    "\n",
    "    return ways[total]"
   ]
  },
  {
   "cell_type": "code",
   "execution_count": 2,
   "metadata": {},
   "outputs": [],
   "source": [
    "numbers = [2,3,4,5,6,7,8,9,11]\n",
    "total = 194"
   ]
  },
  {
   "cell_type": "code",
   "execution_count": 3,
   "metadata": {},
   "outputs": [
    {
     "data": {
      "text/plain": [
       "35311482"
      ]
     },
     "execution_count": 3,
     "metadata": {},
     "output_type": "execute_result"
    }
   ],
   "source": [
    "count_ways_to_sum(total, numbers)"
   ]
  },
  {
   "cell_type": "code",
   "execution_count": null,
   "metadata": {},
   "outputs": [],
   "source": []
  },
  {
   "cell_type": "code",
   "execution_count": null,
   "metadata": {},
   "outputs": [],
   "source": []
  }
 ],
 "metadata": {
  "kernelspec": {
   "display_name": "base",
   "language": "python",
   "name": "python3"
  },
  "language_info": {
   "codemirror_mode": {
    "name": "ipython",
    "version": 3
   },
   "file_extension": ".py",
   "mimetype": "text/x-python",
   "name": "python",
   "nbconvert_exporter": "python",
   "pygments_lexer": "ipython3",
   "version": "3.10.9"
  }
 },
 "nbformat": 4,
 "nbformat_minor": 2
}
