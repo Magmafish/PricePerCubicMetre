{
 "cells": [
  {
   "cell_type": "markdown",
   "metadata": {},
   "source": [
    "### Unique Paths in a Grid I\n",
    "You are attempting to solve a Coding Contract. You have 10 tries remaining, after which the contract will self-destruct.\n",
    "\n",
    "\n",
    "You are in a grid with 7 rows and 6 columns, and you are positioned in the top-left corner of that grid. You are trying to reach the bottom-right corner of the grid, but you can only move down or right on each step. Determine how many unique paths there are from start to finish.\n",
    "\n",
    "NOTE: The data returned for this contract is an array with the number of rows and columns:\n",
    "\n",
    "[7, 6]"
   ]
  },
  {
   "cell_type": "code",
   "execution_count": 1,
   "metadata": {},
   "outputs": [],
   "source": [
    "def uniquePaths(m, n):\n",
    "    # Initialize a 2D list (matrix) to store the number of paths to each cell\n",
    "    # Set all values to 1 since there's at least one way to reach each cell in the first row and first column\n",
    "    dp = [[1] * n for _ in range(m)]\n",
    "\n",
    "    # Iterate over the matrix starting from cell (1, 1)\n",
    "    for i in range(1, m):\n",
    "        for j in range(1, n):\n",
    "            # Number of paths to current cell = paths from above + paths from left\n",
    "            dp[i][j] = dp[i - 1][j] + dp[i][j - 1]\n",
    "\n",
    "    # The bottom-right corner will have the total number of unique paths\n",
    "    return dp[m - 1][n - 1]"
   ]
  },
  {
   "cell_type": "code",
   "execution_count": 2,
   "metadata": {},
   "outputs": [
    {
     "data": {
      "text/plain": [
       "15"
      ]
     },
     "execution_count": 2,
     "metadata": {},
     "output_type": "execute_result"
    }
   ],
   "source": [
    "rows, columns = 3, 5\n",
    "uniquePaths(rows, columns)"
   ]
  },
  {
   "cell_type": "code",
   "execution_count": null,
   "metadata": {},
   "outputs": [],
   "source": []
  }
 ],
 "metadata": {
  "kernelspec": {
   "display_name": "base",
   "language": "python",
   "name": "python3"
  },
  "language_info": {
   "codemirror_mode": {
    "name": "ipython",
    "version": 3
   },
   "file_extension": ".py",
   "mimetype": "text/x-python",
   "name": "python",
   "nbconvert_exporter": "python",
   "pygments_lexer": "ipython3",
   "version": "3.10.9"
  }
 },
 "nbformat": 4,
 "nbformat_minor": 2
}
