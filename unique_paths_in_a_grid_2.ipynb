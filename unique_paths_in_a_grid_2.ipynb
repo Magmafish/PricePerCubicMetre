{
 "cells": [
  {
   "cell_type": "markdown",
   "metadata": {},
   "source": [
    "### Unique Paths in a Grid II\n",
    "You are attempting to solve a Coding Contract. You have 10 tries remaining, after which the contract will self-destruct.\n",
    "\n",
    "\n",
    "You are located in the top-left corner of the following grid:\n",
    "\n",
    "    [[0,0,0,0,0,0,0,0,0,1,0,]\n",
    "    [1,1,0,0,0,0,0,0,1,0,0,]\n",
    "    [0,0,0,0,0,0,0,0,1,0,0,]\n",
    "    [0,0,0,0,0,0,0,0,0,1,0,]\n",
    "    [0,0,0,0,0,1,0,0,0,0,0,]\n",
    "    [0,0,0,0,0,0,0,1,0,0,0,]]\n",
    "\n",
    "You are trying reach the bottom-right corner of the grid, but you can only move down or right on each step. Furthermore, there are obstacles on the grid that you cannot move onto. These obstacles are denoted by '1', while empty spaces are denoted by 0.\n",
    "\n",
    "Determine how many unique paths there are from start to finish.\n",
    "\n",
    "NOTE: The data returned for this contract is an 2D array of numbers representing the grid."
   ]
  },
  {
   "cell_type": "code",
   "execution_count": 1,
   "metadata": {},
   "outputs": [],
   "source": [
    "def unique_paths_with_obstacles(grid):\n",
    "    if not grid or grid[0][0] == 1:\n",
    "        return 0\n",
    "\n",
    "    rows, cols = len(grid), len(grid[0])\n",
    "\n",
    "    # Initialize the first cell\n",
    "    grid[0][0] = 1\n",
    "\n",
    "    # Fill the first row\n",
    "    for col in range(1, cols):\n",
    "        grid[0][col] = 0 if grid[0][col] == 1 else grid[0][col - 1]\n",
    "\n",
    "    # Fill the first column\n",
    "    for row in range(1, rows):\n",
    "        grid[row][0] = 0 if grid[row][0] == 1 else grid[row - 1][0]\n",
    "\n",
    "    # Fill the rest of the grid\n",
    "    for row in range(1, rows):\n",
    "        for col in range(1, cols):\n",
    "            if grid[row][col] == 1:\n",
    "                grid[row][col] = 0\n",
    "            else:\n",
    "                grid[row][col] = grid[row - 1][col] + grid[row][col - 1]\n",
    "\n",
    "    return grid[rows - 1][cols - 1]"
   ]
  },
  {
   "cell_type": "code",
   "execution_count": 2,
   "metadata": {},
   "outputs": [
    {
     "data": {
      "text/plain": [
       "441"
      ]
     },
     "execution_count": 2,
     "metadata": {},
     "output_type": "execute_result"
    }
   ],
   "source": [
    "grid = [\n",
    "    [0, 0, 0, 0, 0, 0, 0, 0, 0, 1, 0],\n",
    "    [1, 1, 0, 0, 0, 0, 0, 0, 1, 0, 0],\n",
    "    [0, 0, 0, 0, 0, 0, 0, 0, 1, 0, 0],\n",
    "    [0, 0, 0, 0, 0, 0, 0, 0, 0, 1, 0],\n",
    "    [0, 0, 0, 0, 0, 1, 0, 0, 0, 0, 0],\n",
    "    [0, 0, 0, 0, 0, 0, 0, 1, 0, 0, 0]\n",
    "]\n",
    "unique_paths = unique_paths_with_obstacles(grid)\n",
    "unique_paths"
   ]
  },
  {
   "cell_type": "code",
   "execution_count": null,
   "metadata": {},
   "outputs": [],
   "source": []
  }
 ],
 "metadata": {
  "kernelspec": {
   "display_name": "base",
   "language": "python",
   "name": "python3"
  },
  "language_info": {
   "codemirror_mode": {
    "name": "ipython",
    "version": 3
   },
   "file_extension": ".py",
   "mimetype": "text/x-python",
   "name": "python",
   "nbconvert_exporter": "python",
   "pygments_lexer": "ipython3",
   "version": "3.10.9"
  }
 },
 "nbformat": 4,
 "nbformat_minor": 2
}
